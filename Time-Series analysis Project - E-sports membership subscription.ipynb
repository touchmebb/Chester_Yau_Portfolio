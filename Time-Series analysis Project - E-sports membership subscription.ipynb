{
 "cells": [
  {
   "cell_type": "markdown",
   "metadata": {},
   "source": [
    "# Time-Series analysis Project: E-sports membership subscription"
   ]
  },
  {
   "cell_type": "markdown",
   "metadata": {},
   "source": [
    "In this project, I aim to take an analysis to the monthly member subscriptions to a popular E-sports game to make both short-term(3 months) and long-term(2 years) forecasts. The data comes in the form of monthly members subscriptions (in millions) for the past 5 years and no data is missing."
   ]
  },
  {
   "cell_type": "markdown",
   "metadata": {},
   "source": [
    "The task is to first inspect the data by plotting it. See if there is a need to apply time differencing. Then fit a time series model to it."
   ]
  },
  {
   "cell_type": "markdown",
   "metadata": {},
   "source": [
    "First, I am plotting the data to take a first look on it:"
   ]
  },
  {
   "cell_type": "markdown",
   "metadata": {},
   "source": [
    "# Data cleaning"
   ]
  },
  {
   "cell_type": "code",
   "execution_count": 1,
   "metadata": {},
   "outputs": [
    {
     "name": "stdout",
     "output_type": "stream",
     "text": [
      "'data.frame':\t60 obs. of  1 variable:\n",
      " $ x: num  4.83 6.1 6.47 5.65 6.9 ...\n"
     ]
    }
   ],
   "source": [
    "#read the data\n",
    "ts_data <- read.csv(file = 'hist.csv')\n",
    "\n",
    "str(ts_data)"
   ]
  },
  {
   "cell_type": "markdown",
   "metadata": {},
   "source": [
    "It looks like there are only 1 column for the the data set, which is not expected since time series data usually includes a time/date. But this does not border me because all we need to know is the numeric column."
   ]
  },
  {
   "cell_type": "code",
   "execution_count": 2,
   "metadata": {},
   "outputs": [
    {
     "data": {
      "text/html": [
       "0"
      ],
      "text/latex": [
       "0"
      ],
      "text/markdown": [
       "0"
      ],
      "text/plain": [
       "[1] 0"
      ]
     },
     "metadata": {},
     "output_type": "display_data"
    }
   ],
   "source": [
    "# check missing value\n",
    "sum(is.na(ts_data))"
   ]
  },
  {
   "cell_type": "markdown",
   "metadata": {},
   "source": [
    "Good, we have no missing data, and the column is in the right type. We can now start our analysis."
   ]
  },
  {
   "cell_type": "markdown",
   "metadata": {},
   "source": [
    "# EDA"
   ]
  },
  {
   "cell_type": "code",
   "execution_count": 3,
   "metadata": {},
   "outputs": [
    {
     "data": {
      "image/png": "[encoded data removed]",
      "text/plain": [
       "plot without title"
      ]
     },
     "metadata": {},
     "output_type": "display_data"
    }
   ],
   "source": [
    "#take the data of member subscription\n",
    "mem_sub <- ts_data$x\n",
    "\n",
    "options(repr.plot.width=8, repr.plot.height=5)\n",
    "\n",
    "#plot the data\n",
    "plot(mem_sub, type = 'o', ylab = 'member subscription')\n",
    "\n",
    "\n",
    "# smoothing curve to check if the variance is stationary.\n",
    "ma10<-filter(mem_sub,sides=2,rep(1,10)/10); lines(ma10, col = 'red'); lines(ma10, col = 'red')"
   ]
  },
  {
   "cell_type": "markdown",
   "metadata": {},
   "source": [
    "It looks like the variance ios not too stationary and the data is nonlinear. I will first take a log of the data to lower the fluctuations of variance, whcih is a standard proceedure when working with fluctuating data."
   ]
  },
  {
   "cell_type": "code",
   "execution_count": 4,
   "metadata": {},
   "outputs": [
    {
     "data": {
      "image/png": "[encoded data removed]",
      "text/plain": [
       "plot without title"
      ]
     },
     "metadata": {},
     "output_type": "display_data"
    }
   ],
   "source": [
    "#log the data\n",
    "y <- log(mem_sub)\n",
    "\n",
    "options(repr.plot.width=8, repr.plot.height=5)\n",
    "\n",
    "#plot the logged data\n",
    "plot(y, type = 'o', ylab = 'log of member subscription')\n",
    "\n",
    "# smoothing curve to check if the variance is stationary.\n",
    "ma10<-filter(y,sides=2,rep(1,10)/10); lines(ma10, col = 'red'); lines(ma10, col = 'red')"
   ]
  },
  {
   "cell_type": "markdown",
   "metadata": {},
   "source": [
    "The data seems closer to each other but the trend is still non-linear. Next we take a look at the ACF and PACF plots to make further inspection:"
   ]
  },
  {
   "cell_type": "code",
   "execution_count": 5,
   "metadata": {},
   "outputs": [
    {
     "data": {
      "image/png": "[encoded data removed]",
      "text/plain": [
       "Plot with title \"SPACF of log series\""
      ]
     },
     "metadata": {},
     "output_type": "display_data"
    }
   ],
   "source": [
    "par(mfrow = c(1,2))\n",
    "options(repr.plot.width=8, repr.plot.height=4)\n",
    "acf(y, main = 'SACF of log series')\n",
    "pacf(y, main = 'SPACF of log series')"
   ]
  },
  {
   "cell_type": "markdown",
   "metadata": {},
   "source": [
    "We can see that the SACF decays slowly and the PACF decays rapidly. This suggests that there might be a possible unit root, and differencing might be needed. We will now take a Augmented Dickey-Fuller Test to see if a differencing is needed for further analysis. Our hypnothesis is as follows:\n",
    "\n",
    "\n",
    "\\begin{split}\n",
    "H_0 & : \\phi = 1 \\text{ (Differencing needed)}\\\\\n",
    "H_1 & : \\phi \\neq 1 \\text{ (Differencing not needed)}\n",
    "\\end{split}\n"
   ]
  },
  {
   "cell_type": "code",
   "execution_count": 6,
   "metadata": {
    "scrolled": true
   },
   "outputs": [
    {
     "name": "stderr",
     "output_type": "stream",
     "text": [
      "Registered S3 method overwritten by 'xts':\n",
      "  method     from\n",
      "  as.zoo.xts zoo \n",
      "Registered S3 method overwritten by 'quantmod':\n",
      "  method            from\n",
      "  as.zoo.data.frame zoo \n"
     ]
    },
    {
     "data": {
      "text/plain": [
       "\n",
       "\tAugmented Dickey-Fuller Test\n",
       "\n",
       "data:  y\n",
       "Dickey-Fuller = -0.85898, Lag order = 3, p-value = 0.9514\n",
       "alternative hypothesis: stationary\n"
      ]
     },
     "metadata": {},
     "output_type": "display_data"
    }
   ],
   "source": [
    "library(tseries)\n",
    "\n",
    "#Augmented Dickey-Fuller test\n",
    "adf.test(y)"
   ]
  },
  {
   "cell_type": "markdown",
   "metadata": {},
   "source": [
    "The test shows that the p-value of $H_0$ is $0.9514>0.05$. It suggests that we fail to reject $H_0$ at $5\\%$ significance level. Therefore, we conclude that unit root exists in the series. Lets take a look at the plot, SACF and SPACF of the differenced log series:"
   ]
  },
  {
   "cell_type": "code",
   "execution_count": 7,
   "metadata": {},
   "outputs": [
    {
     "data": {
      "image/png": "[encoded data removed]",
      "text/plain": [
       "plot without title"
      ]
     },
     "metadata": {},
     "output_type": "display_data"
    },
    {
     "data": {
      "image/png": "[encoded data removed]",
      "text/plain": [
       "Plot with title \"SPACF of Differenced log series\""
      ]
     },
     "metadata": {},
     "output_type": "display_data"
    }
   ],
   "source": [
    "#differencing of the data\n",
    "z <- diff(y)\n",
    "\n",
    "plot(z, type = 'o', ylab = 'Differenced Log series')\n",
    "ma15<-filter(z,sides=2,rep(1,15)/15); lines(ma15, col = 'red')\n",
    "par(mfrow = c(1,2))\n",
    "acf(z, main = 'SACF of Differenced log series'); pacf(z, main = 'SPACF of Differenced log series')"
   ]
  },
  {
   "cell_type": "markdown",
   "metadata": {},
   "source": [
    "The series now looks a bit more stationary comparing to the original log series and the ACF decays rapidly. However, there are still some outliners in the plot. We will take another test on the differenced series to see if further differencing is need for the series. Again,\n",
    "\n",
    "\\begin{split}\n",
    "H_0 & : \\phi = 1 \\text{ (Differencing needed)}\\\\\n",
    "H_1 & : \\phi \\neq 1 \\text{ (Differencing not needed)}\n",
    "\\end{split}"
   ]
  },
  {
   "cell_type": "code",
   "execution_count": 8,
   "metadata": {},
   "outputs": [
    {
     "data": {
      "text/plain": [
       "\n",
       "\tAugmented Dickey-Fuller Test\n",
       "\n",
       "data:  z\n",
       "Dickey-Fuller = -2.8941, Lag order = 3, p-value = 0.2135\n",
       "alternative hypothesis: stationary\n"
      ]
     },
     "metadata": {},
     "output_type": "display_data"
    }
   ],
   "source": [
    "z <- diff(y)\n",
    "adf.test(z)"
   ]
  },
  {
   "cell_type": "markdown",
   "metadata": {},
   "source": [
    "The test shows that the p-value of $H_0$ is $0.2135>0.05$. It actually suggests that we fail again to reject $H_0$ again at $5\\%$ significance level. Therefore, we conclude that unit root exists in differenced log series. Now, lets take a look at the second differenced series:"
   ]
  },
  {
   "cell_type": "code",
   "execution_count": 9,
   "metadata": {},
   "outputs": [
    {
     "data": {
      "image/png": "[encoded data removed]",
      "text/plain": [
       "plot without title"
      ]
     },
     "metadata": {},
     "output_type": "display_data"
    },
    {
     "data": {
      "image/png": "[encoded data removed]",
      "text/plain": [
       "Plot with title \"SPACF of second Differenced log\""
      ]
     },
     "metadata": {},
     "output_type": "display_data"
    }
   ],
   "source": [
    "w <- diff(z); plot(w, type = 'o', ylab = 'Second Differenced Log series')\n",
    "ma15<-filter(w,sides=2,rep(1,10)/10); lines(ma15, col = 'red')\n",
    "par(mfrow = c(1:2))\n",
    "acf(w, ci.type = 'ma', main = 'SACF of second Differenced log series'); pacf(w, main = 'SPACF of second Differenced log')"
   ]
  },
  {
   "cell_type": "markdown",
   "metadata": {},
   "source": [
    "It now looks pretty stationary and the SACP decays rapidly. Just to be sure, I will take another quick test on it."
   ]
  },
  {
   "cell_type": "code",
   "execution_count": 10,
   "metadata": {},
   "outputs": [
    {
     "name": "stderr",
     "output_type": "stream",
     "text": [
      "Warning message in adf.test(w):\n",
      "\"p-value smaller than printed p-value\""
     ]
    },
    {
     "data": {
      "text/plain": [
       "\n",
       "\tAugmented Dickey-Fuller Test\n",
       "\n",
       "data:  w\n",
       "Dickey-Fuller = -6.2616, Lag order = 3, p-value = 0.01\n",
       "alternative hypothesis: stationary\n"
      ]
     },
     "metadata": {},
     "output_type": "display_data"
    }
   ],
   "source": [
    "adf.test(w)"
   ]
  },
  {
   "cell_type": "markdown",
   "metadata": {},
   "source": [
    "This time it shows that no more differencing is needed. "
   ]
  },
  {
   "cell_type": "markdown",
   "metadata": {},
   "source": [
    "# Model fitting"
   ]
  },
  {
   "cell_type": "markdown",
   "metadata": {},
   "source": [
    "The plot shows a pretty stationary mean at 0. The SACF shows a 'cut-off' and SPACF shows a 'tail-off'. It suggests that the series follows a MA(1) model. To be sure, we will take a EACF test."
   ]
  },
  {
   "cell_type": "code",
   "execution_count": 11,
   "metadata": {},
   "outputs": [
    {
     "name": "stdout",
     "output_type": "stream",
     "text": [
      "AR/MA\n",
      "  0 1 2 3 4 5 6 7 8 9 10 11 12 13\n",
      "0 x o o o o o o o o o o  o  o  o \n",
      "1 x x o o o o o o o o o  o  o  o \n",
      "2 x o o o o o o o o o o  o  o  o \n",
      "3 x o o o o o o o o o o  o  o  o \n",
      "4 o o o o o o o o o o o  o  o  o \n",
      "5 x o o o o o o o o o o  o  o  o \n",
      "6 x o o o o o o o o o o  o  o  o \n",
      "7 o o o x x o o o o o o  o  o  o \n"
     ]
    }
   ],
   "source": [
    "# eacf is not defined and the following code is programmed by K.S. Chan, Department of Statistics and Actuarial Science, University of Iowa.\n",
    "eacf <-\n",
    "  function (z,ar.max=7,ma.max=13) \n",
    "  {   \n",
    "    lag1<-function(z,lag=1){c(rep(NA,lag),z[1:(length(z)-lag)])}\n",
    "    reupm<-function(m1,nrow,ncol){\n",
    "      k<-ncol-1\n",
    "      m2<-NULL\n",
    "      for (i in 1:k){\n",
    "        i1<-i+1\n",
    "        work<-lag1(m1[,i])\n",
    "        work[1]<--1\n",
    "        temp<-m1[,i1]-work*m1[i1,i1]/m1[i,i]\n",
    "        temp[i1]<-0\n",
    "        m2<-cbind(m2,temp)\n",
    "      }\n",
    "      m2}\n",
    "    ceascf<-function(m,cov1,nar,ncol,count,ncov,z,zm){\n",
    "      result<-0*seq(1,nar+1)\n",
    "      result[1]<-cov1[ncov+count]\n",
    "      for (i in 1:nar) {\n",
    "        temp<-cbind(z[-(1:i)],zm[-(1:i),1:i])%*%c(1,-m[1:i,i])\n",
    "        result[i+1]<-acf(temp,plot=FALSE,lag.max=count,drop.lag.0=FALSE)$acf[count+1]\n",
    "      }\n",
    "      result\n",
    "    }\n",
    "      \n",
    "    ar.max<-ar.max+1\n",
    "    ma.max<-ma.max+1\n",
    "    nar<-ar.max-1\n",
    "    nma<-ma.max\n",
    "    ncov<-nar+nma+2\n",
    "    nrow<-nar+nma+1\n",
    "    ncol<-nrow-1\n",
    "    z<-z-mean(z)\n",
    "    zm<-NULL\n",
    "    for(i in 1:nar) zm<-cbind(zm,lag1(z,lag=i))\n",
    "    cov1<-acf(z,lag.max=ncov,plot=FALSE,drop.lag.0=FALSE)$acf\n",
    "    cov1<-c(rev(cov1[-1]),cov1)\n",
    "    ncov<-ncov+1\n",
    "    m1<-matrix(0,ncol=ncol,nrow=nrow)\n",
    "    for(i in 1:ncol) m1[1:i,i]<-\n",
    "      ar.ols(z,order.max=i,aic=FALSE,demean=FALSE,intercept=FALSE)$ar\n",
    "    eacfm<-NULL\n",
    "    for (i in 1:nma) {\n",
    "      m2<-reupm(m1=m1,nrow=nrow,ncol=ncol)\n",
    "      ncol<-ncol-1\n",
    "      eacfm<-cbind(eacfm, ceascf(m2,cov1,nar,ncol,i,ncov,z,zm))\n",
    "      m1<-m2}\n",
    "    work<-1:(nar+1)\n",
    "    work<-length(z)-work+1\n",
    "    symbol<-NULL\n",
    "    for ( i in 1:nma) {\n",
    "      work<-work-1\n",
    "      symbol<-cbind(symbol,ifelse(abs(eacfm[,i])>2/work^.5, 'x','o'))}\n",
    "    rownames(symbol)<-0:(ar.max-1)\n",
    "    colnames(symbol)<-0:(ma.max-1)\n",
    "    cat('AR/MA\\n')\n",
    "    print(symbol,quote=FALSE)\n",
    "    invisible(list(eacf=eacfm,ar.max=ar.max,ma.ma=ma.max,symbol=symbol))\n",
    "  }\n",
    "eacf(w)"
   ]
  },
  {
   "cell_type": "markdown",
   "metadata": {},
   "source": [
    "By the principle, the SEACF table also suggests that a MA(1) model. Therefore, we will try fitting one. "
   ]
  },
  {
   "cell_type": "code",
   "execution_count": 12,
   "metadata": {},
   "outputs": [
    {
     "data": {
      "text/plain": [
       "\n",
       "Call:\n",
       "arima(x = y, order = c(0, 2, 1), include.mean = FALSE, method = \"ML\")\n",
       "\n",
       "Coefficients:\n",
       "          ma1\n",
       "      -0.9482\n",
       "s.e.   0.0625\n",
       "\n",
       "sigma^2 estimated as 0.01962:  log likelihood = 30.57,  aic = -57.13"
      ]
     },
     "metadata": {},
     "output_type": "display_data"
    }
   ],
   "source": [
    "#fitting a ARIMA(0,2,1) model to the data\n",
    "fitMA1mle <- arima(y, order=c(0,2,1), include.mean = FALSE, method = 'ML')\n",
    "\n",
    "fitMA1mle"
   ]
  },
  {
   "cell_type": "markdown",
   "metadata": {},
   "source": [
    "Before we lay out the model we will have a diagnostic checking on the model."
   ]
  },
  {
   "cell_type": "code",
   "execution_count": 13,
   "metadata": {},
   "outputs": [
    {
     "data": {
      "image/png": "[encoded data removed]",
      "text/plain": [
       "Plot with title \"p values for Ljung-Box statistic\""
      ]
     },
     "metadata": {},
     "output_type": "display_data"
    }
   ],
   "source": [
    "options(repr.plot.width=8, repr.plot.height=8)\n",
    "\n",
    "#3 diagnostic plots of the model\n",
    "tsdiag(fitMA1mle,golf.lag=25)"
   ]
  },
  {
   "cell_type": "markdown",
   "metadata": {},
   "source": [
    "In the first plot, it shows that the standardized error is quite random. However, there are a few points which has a variance of 2 or -2. Therefore, I won't be too sure about a constant variance. In the second plot (SACF of residuals), it shows that no points are out of or even close to the blue dashed line. Therefore, by the criteria, we fail to reject and we accept the hypothesis that the rescaled residuals are similar to a iid noise. In the third plot, without bringing out the statistic, we can clearly see that the p-value for the Lyung-Box statistic at each lag is way bigger than 0.05. Therefore, at $5\\%$ significiant level, we fail to reject the null hypothesis\n",
    "\n",
    "\\begin{equation}\n",
    "H_0:\\rho_1 = \\rho_2 = \\dots = \\rho_{10} = 0\n",
    "\\end{equation}\n",
    "\n",
    "and it suggests that there is no correlation at lag $1,2, \\dots, 10$, and the residuals are iid white noise. This fitted model is actually quite good for the data. The model we fitted is as follows:\n",
    "\n",
    "\\begin{split}\n",
    "y_t &\\sim \\text{ARIMA}(0,2,1) \\\\\n",
    "\\bigtriangledown^2 y_t & = W_t - 0.9482 W_{t-1} \\\\\n",
    "(1-2B+B^2)y_t & = W_t - 0.9482 W_{t-1} \\\\\n",
    "y_t - 2 y_{t-1} + y_{t-2} & = W_t - 0.9482 W_{t-1} \\\\\n",
    "y_t & = 2 y_{t-1} - y_{t-2} + W_t - 0.9482 W_{t-1} \\\\\n",
    "\\end{split}\n",
    "\n",
    "where $W_t \\sim \\text{WN}(0,0.0625)$ and $y_t$ is the log series of the original data. "
   ]
  },
  {
   "cell_type": "markdown",
   "metadata": {},
   "source": [
    "# Forecast"
   ]
  },
  {
   "cell_type": "markdown",
   "metadata": {},
   "source": [
    "Next, we wish to make predictions on the 3 months and 2 year subscriptions, and the results are as follows:"
   ]
  },
  {
   "cell_type": "code",
   "execution_count": 14,
   "metadata": {},
   "outputs": [
    {
     "data": {
      "text/html": [
       "<table>\n",
       "<thead><tr><th></th><th scope=col>Month 61</th><th scope=col>Month 62</th><th scope=col>Month 63</th></tr></thead>\n",
       "<tbody>\n",
       "\t<tr><th scope=row>prediction</th><td>12.28961 </td><td>12.158853</td><td>12.029485</td></tr>\n",
       "\t<tr><th scope=row>lower bound</th><td> 9.33917 </td><td> 8.162802</td><td> 7.291677</td></tr>\n",
       "\t<tr><th scope=row>upper bound</th><td>16.17216 </td><td>18.111147</td><td>19.845711</td></tr>\n",
       "</tbody>\n",
       "</table>\n"
      ],
      "text/latex": [
       "\\begin{tabular}{r|lll}\n",
       "  & Month 61 & Month 62 & Month 63\\\\\n",
       "\\hline\n",
       "\tprediction & 12.28961  & 12.158853 & 12.029485\\\\\n",
       "\tlower bound &  9.33917  &  8.162802 &  7.291677\\\\\n",
       "\tupper bound & 16.17216  & 18.111147 & 19.845711\\\\\n",
       "\\end{tabular}\n"
      ],
      "text/markdown": [
       "\n",
       "| <!--/--> | Month 61 | Month 62 | Month 63 |\n",
       "|---|---|---|---|\n",
       "| prediction | 12.28961  | 12.158853 | 12.029485 |\n",
       "| lower bound |  9.33917  |  8.162802 |  7.291677 |\n",
       "| upper bound | 16.17216  | 18.111147 | 19.845711 |\n",
       "\n"
      ],
      "text/plain": [
       "            Month 61 Month 62  Month 63 \n",
       "prediction  12.28961 12.158853 12.029485\n",
       "lower bound  9.33917  8.162802  7.291677\n",
       "upper bound 16.17216 18.111147 19.845711"
      ]
     },
     "metadata": {},
     "output_type": "display_data"
    }
   ],
   "source": [
    "#forecasts of the next 3 months\n",
    "forecast <-predict(fitMA1mle,3)\n",
    "\n",
    "#upper and lower bound of the 3 months forecasts\n",
    "u <- forecast$pred+1.96*forecast$se\n",
    "l <- forecast$pred-1.96*forecast$se\n",
    "\n",
    "#putting the data in a table\n",
    "pred_table <- data.frame(rbind(exp(forecast$pred), exp(l),exp(u)))\n",
    "rownames(pred_table) <- c('prediction', 'lower bound', 'upper bound')\n",
    "colnames(pred_table) <- c('Month 61', 'Month 62', 'Month 63')\n",
    "\n",
    "pred_table"
   ]
  },
  {
   "cell_type": "code",
   "execution_count": 15,
   "metadata": {},
   "outputs": [
    {
     "data": {
      "image/png": "[encoded data removed]",
      "text/plain": [
       "plot without title"
      ]
     },
     "metadata": {},
     "output_type": "display_data"
    }
   ],
   "source": [
    "#plot of the monlthy subscription from month 51 to 60 and the forecasts of the next 3 months\n",
    "month <- seq(51,60)\n",
    "monthforecast <- seq(61,63)\n",
    "plot(month,mem_sub[month],type='o',xlim=c(51,63),ylim=c(min(exp(l), mem_sub[51:60]),max(mem_sub[51:60],exp(u))), ylab='monthly subscription')\n",
    "lines(monthforecast, exp(forecast$pred), col = 'red', type = 'o')\n",
    "lines(monthforecast, exp(u), col = 'blue', lty = 'dashed')\n",
    "lines(monthforecast, exp(l), col = 'blue', lty = 'dashed')\n",
    "abline(v = 60+0.5, lty = 'dotted')"
   ]
  },
  {
   "cell_type": "markdown",
   "metadata": {},
   "source": [
    "The forecasting of the first 3 months are all close to \\$12 millions, but it is slightly decreasing each month. "
   ]
  },
  {
   "cell_type": "code",
   "execution_count": 16,
   "metadata": {},
   "outputs": [
    {
     "data": {
      "text/html": [
       "<table>\n",
       "<thead><tr><th></th><th scope=col>Month 61</th><th scope=col>Month 62</th><th scope=col>Month 63</th><th scope=col>Month 64</th><th scope=col>Month 65</th><th scope=col>Month 66</th><th scope=col>Month 67</th><th scope=col>Month 68</th><th scope=col>Month 69</th><th scope=col>Month 70</th><th scope=col>...</th><th scope=col>Month 75</th><th scope=col>Month 76</th><th scope=col>Month 77</th><th scope=col>Month 78</th><th scope=col>Month 79</th><th scope=col>Month 80</th><th scope=col>Month 81</th><th scope=col>Month 82</th><th scope=col>Month 83</th><th scope=col>Month 84</th></tr></thead>\n",
       "<tbody>\n",
       "\t<tr><th scope=row>prediction</th><td>12.28961 </td><td>12.158853</td><td>12.029485</td><td>11.901493</td><td>11.774863</td><td>11.649581</td><td>11.525631</td><td>11.403000</td><td>11.281674</td><td>11.161639</td><td>...      </td><td>10.580351</td><td>10.467778</td><td>10.356402</td><td>10.246212</td><td>10.137194</td><td>10.029336</td><td> 9.922625</td><td> 9.81705 </td><td> 9.712598</td><td> 9.609258</td></tr>\n",
       "\t<tr><th scope=row>lower bound</th><td> 9.33917 </td><td> 8.162802</td><td> 7.291677</td><td> 6.579371</td><td> 5.970317</td><td> 5.436435</td><td> 4.961194</td><td> 4.533848</td><td> 4.146902</td><td> 3.794839</td><td>...      </td><td> 2.434736</td><td> 2.225846</td><td> 2.033865</td><td> 1.857428</td><td> 1.695304</td><td> 1.546374</td><td> 1.409618</td><td> 1.28410 </td><td> 1.168960</td><td> 1.063402</td></tr>\n",
       "\t<tr><th scope=row>upper bound</th><td>16.17216 </td><td>18.111147</td><td>19.845711</td><td>21.528736</td><td>23.222787</td><td>24.963551</td><td>26.775849</td><td>28.679485</td><td>30.691865</td><td>32.829374</td><td>...      </td><td>45.977800</td><td>49.228196</td><td>52.734598</td><td>56.521618</td><td>60.616102</td><td>65.047398</td><td>69.847653</td><td>75.05213 </td><td>80.699555</td><td>86.832519</td></tr>\n",
       "</tbody>\n",
       "</table>\n"
      ],
      "text/latex": [
       "\\begin{tabular}{r|llllllllllllllllllllllll}\n",
       "  & Month 61 & Month 62 & Month 63 & Month 64 & Month 65 & Month 66 & Month 67 & Month 68 & Month 69 & Month 70 & ... & Month 75 & Month 76 & Month 77 & Month 78 & Month 79 & Month 80 & Month 81 & Month 82 & Month 83 & Month 84\\\\\n",
       "\\hline\n",
       "\tprediction & 12.28961  & 12.158853 & 12.029485 & 11.901493 & 11.774863 & 11.649581 & 11.525631 & 11.403000 & 11.281674 & 11.161639 & ...       & 10.580351 & 10.467778 & 10.356402 & 10.246212 & 10.137194 & 10.029336 &  9.922625 &  9.81705  &  9.712598 &  9.609258\\\\\n",
       "\tlower bound &  9.33917  &  8.162802 &  7.291677 &  6.579371 &  5.970317 &  5.436435 &  4.961194 &  4.533848 &  4.146902 &  3.794839 & ...       &  2.434736 &  2.225846 &  2.033865 &  1.857428 &  1.695304 &  1.546374 &  1.409618 &  1.28410  &  1.168960 &  1.063402\\\\\n",
       "\tupper bound & 16.17216  & 18.111147 & 19.845711 & 21.528736 & 23.222787 & 24.963551 & 26.775849 & 28.679485 & 30.691865 & 32.829374 & ...       & 45.977800 & 49.228196 & 52.734598 & 56.521618 & 60.616102 & 65.047398 & 69.847653 & 75.05213  & 80.699555 & 86.832519\\\\\n",
       "\\end{tabular}\n"
      ],
      "text/markdown": [
       "\n",
       "| <!--/--> | Month 61 | Month 62 | Month 63 | Month 64 | Month 65 | Month 66 | Month 67 | Month 68 | Month 69 | Month 70 | ... | Month 75 | Month 76 | Month 77 | Month 78 | Month 79 | Month 80 | Month 81 | Month 82 | Month 83 | Month 84 |\n",
       "|---|---|---|---|---|---|---|---|---|---|---|---|---|---|---|---|---|---|---|---|---|---|\n",
       "| prediction | 12.28961  | 12.158853 | 12.029485 | 11.901493 | 11.774863 | 11.649581 | 11.525631 | 11.403000 | 11.281674 | 11.161639 | ...       | 10.580351 | 10.467778 | 10.356402 | 10.246212 | 10.137194 | 10.029336 |  9.922625 |  9.81705  |  9.712598 |  9.609258 |\n",
       "| lower bound |  9.33917  |  8.162802 |  7.291677 |  6.579371 |  5.970317 |  5.436435 |  4.961194 |  4.533848 |  4.146902 |  3.794839 | ...       |  2.434736 |  2.225846 |  2.033865 |  1.857428 |  1.695304 |  1.546374 |  1.409618 |  1.28410  |  1.168960 |  1.063402 |\n",
       "| upper bound | 16.17216  | 18.111147 | 19.845711 | 21.528736 | 23.222787 | 24.963551 | 26.775849 | 28.679485 | 30.691865 | 32.829374 | ...       | 45.977800 | 49.228196 | 52.734598 | 56.521618 | 60.616102 | 65.047398 | 69.847653 | 75.05213  | 80.699555 | 86.832519 |\n",
       "\n"
      ],
      "text/plain": [
       "            Month 61 Month 62  Month 63  Month 64  Month 65  Month 66 \n",
       "prediction  12.28961 12.158853 12.029485 11.901493 11.774863 11.649581\n",
       "lower bound  9.33917  8.162802  7.291677  6.579371  5.970317  5.436435\n",
       "upper bound 16.17216 18.111147 19.845711 21.528736 23.222787 24.963551\n",
       "            Month 67  Month 68  Month 69  Month 70  ... Month 75  Month 76 \n",
       "prediction  11.525631 11.403000 11.281674 11.161639 ... 10.580351 10.467778\n",
       "lower bound  4.961194  4.533848  4.146902  3.794839 ...  2.434736  2.225846\n",
       "upper bound 26.775849 28.679485 30.691865 32.829374 ... 45.977800 49.228196\n",
       "            Month 77  Month 78  Month 79  Month 80  Month 81  Month 82\n",
       "prediction  10.356402 10.246212 10.137194 10.029336  9.922625  9.81705\n",
       "lower bound  2.033865  1.857428  1.695304  1.546374  1.409618  1.28410\n",
       "upper bound 52.734598 56.521618 60.616102 65.047398 69.847653 75.05213\n",
       "            Month 83  Month 84 \n",
       "prediction   9.712598  9.609258\n",
       "lower bound  1.168960  1.063402\n",
       "upper bound 80.699555 86.832519"
      ]
     },
     "metadata": {},
     "output_type": "display_data"
    }
   ],
   "source": [
    "# forecasts of the next 2 years\n",
    "forecast <-predict(fitMA1mle,24)\n",
    "forecast <-predict(fitMA1mle,24)\n",
    "u <- forecast$pred+1.96*forecast$se\n",
    "l <- forecast$pred-1.96*forecast$se\n",
    "pred_table <- data.frame(rbind(exp(forecast$pred), exp(l),exp(u)))\n",
    "rownames(pred_table) <- c('prediction', 'lower bound', 'upper bound')\n",
    "colnames(pred_table) <- c('Month 61', 'Month 62', 'Month 63', 'Month 64', 'Month 65', 'Month 66', 'Month 67', 'Month 68', 'Month 69', 'Month 70', 'Month 71', 'Month 72', 'Month 73', 'Month 74', 'Month 75', 'Month 76', 'Month 77', 'Month 78', 'Month 79', 'Month 80', 'Month 81', 'Month 82', 'Month 83', 'Month 84')\n",
    "pred_table"
   ]
  },
  {
   "cell_type": "code",
   "execution_count": 17,
   "metadata": {
    "scrolled": false
   },
   "outputs": [
    {
     "data": {
      "image/png": "[encoded data removed]",
      "text/plain": [
       "plot without title"
      ]
     },
     "metadata": {},
     "output_type": "display_data"
    }
   ],
   "source": [
    "#plot of the monlthy subscription from month 51 to 60 and the forecasts of the next 2 years.\n",
    "month <- seq(51,60)\n",
    "monthforecast <- seq(61,84)\n",
    "plot(month,mem_sub[month],type='o',xlim=c(51,84),ylim=c(min(exp(l), mem_sub[51:60]),max(mem_sub[51:60],exp(u))), ylab='monthly subscription')\n",
    "lines(monthforecast, exp(forecast$pred), col = 'red', type = 'o')\n",
    "lines(monthforecast, exp(u), col = 'blue', lty = 'dashed')\n",
    "lines(monthforecast, exp(l), col = 'blue', lty = 'dashed')\n",
    "abline(v = 60+0.5, lty = 'dotted')"
   ]
  },
  {
   "cell_type": "markdown",
   "metadata": {},
   "source": [
    "From the table and the graph, it suggests that the monthly subscriptions keeps reducing at a linear amount, and it keeps dropping to $9$ million after 2 years. Notice that the prediction interval keeps growing bigger and bigger each month.\n",
    "\n",
    "By the nature of time-series analysis, the long term forecasting is usually not accurate at all, and it is reflected by the growing interval provided in the graph. We can see that at the $84$th month (2 years from now), the $95\\%$ interval is very large (1.06, 86.83). This is usually due to the future being more and more unpredictable. However, notice that the area of upper bound of the prediction is way bigger than the area of lower bound of the prediction. This suggests that the monthly subscription is more likely to move up than down.\n",
    "\n",
    "Therefore, I can only conclude that given the data of 5 year member subscriptions, the forecast of the member subscriptions next month is in the interval $[9.34, 16.17]$, and the prediction is $\\$ 12.29$ million. "
   ]
  }
 ],
 "metadata": {
  "kernelspec": {
   "display_name": "R",
   "language": "R",
   "name": "ir"
  },
  "language_info": {
   "codemirror_mode": "r",
   "file_extension": ".r",
   "mimetype": "text/x-r-source",
   "name": "R",
   "pygments_lexer": "r",
   "version": "3.6.1"
  }
 },
 "nbformat": 4,
 "nbformat_minor": 4
}
