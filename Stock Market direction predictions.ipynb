{
 "cells": [
  {
   "cell_type": "markdown",
   "metadata": {},
   "source": [
    "# Stock Market direction predictions"
   ]
  },
  {
   "cell_type": "markdown",
   "metadata": {},
   "source": [
    "For this project, I aim to predict whether a particular stock is going up or down on a given day, after training a model. The data is provided by the package ISLR in R. The data set contains the daily movements in the Standard & Poor's 500 (S&P) stock index over a 5-year period between 2001 and 2005"
   ]
  },
  {
   "cell_type": "markdown",
   "metadata": {},
   "source": [
    "# Cleaning data"
   ]
  },
  {
   "cell_type": "markdown",
   "metadata": {},
   "source": [
    "As the data is provided by the package. I would assume they are clean and no missing data or wrong data type. Anyway, I will first examine the data"
   ]
  },
  {
   "cell_type": "code",
   "execution_count": 1,
   "metadata": {
    "scrolled": false
   },
   "outputs": [
    {
     "name": "stderr",
     "output_type": "stream",
     "text": [
      "\n",
      "Attaching package: 'dplyr'\n",
      "\n",
      "The following objects are masked from 'package:stats':\n",
      "\n",
      "    filter, lag\n",
      "\n",
      "The following objects are masked from 'package:base':\n",
      "\n",
      "    intersect, setdiff, setequal, union\n",
      "\n"
     ]
    },
    {
     "name": "stdout",
     "output_type": "stream",
     "text": [
      "'data.frame':\t1250 obs. of  9 variables:\n",
      " $ Year     : num  2001 2001 2001 2001 2001 ...\n",
      " $ Lag1     : num  0.381 0.959 1.032 -0.623 0.614 ...\n",
      " $ Lag2     : num  -0.192 0.381 0.959 1.032 -0.623 ...\n",
      " $ Lag3     : num  -2.624 -0.192 0.381 0.959 1.032 ...\n",
      " $ Lag4     : num  -1.055 -2.624 -0.192 0.381 0.959 ...\n",
      " $ Lag5     : num  5.01 -1.055 -2.624 -0.192 0.381 ...\n",
      " $ Volume   : num  1.19 1.3 1.41 1.28 1.21 ...\n",
      " $ Today    : num  0.959 1.032 -0.623 0.614 0.213 ...\n",
      " $ Direction: Factor w/ 2 levels \"Down\",\"Up\": 2 2 1 2 2 2 1 2 2 2 ...\n"
     ]
    }
   ],
   "source": [
    "library(dplyr)\n",
    "library(ISLR)\n",
    "\n",
    "#check the type of the data frame\n",
    "str(Smarket)"
   ]
  },
  {
   "cell_type": "markdown",
   "metadata": {},
   "source": [
    "There are 9 columns in the data, with Year representing the year where stock price are recored, the lag variables representating the returns of the stock by lag up to 5 days, volume representating the number of shares traded on the previous day in billions, today representating the percentage return and direction representating whether the market was up or down on that date. \n",
    "\n",
    "i will first check if any data is missing:"
   ]
  },
  {
   "cell_type": "code",
   "execution_count": 2,
   "metadata": {},
   "outputs": [
    {
     "data": {
      "text/html": [
       "0"
      ],
      "text/latex": [
       "0"
      ],
      "text/markdown": [
       "0"
      ],
      "text/plain": [
       "[1] 0"
      ]
     },
     "metadata": {},
     "output_type": "display_data"
    }
   ],
   "source": [
    "sum(is.na(Smarket))"
   ]
  },
  {
   "cell_type": "markdown",
   "metadata": {},
   "source": [
    "So there are no missing values for the data, which is great! It looks like the data type are mostly correct. For the year variable, I think we should convert it to integer, as it would not make sense for a year that is not a whole number:"
   ]
  },
  {
   "cell_type": "code",
   "execution_count": 3,
   "metadata": {},
   "outputs": [
    {
     "name": "stdout",
     "output_type": "stream",
     "text": [
      "'data.frame':\t1250 obs. of  9 variables:\n",
      " $ Year     : int  2001 2001 2001 2001 2001 2001 2001 2001 2001 2001 ...\n",
      " $ Lag1     : num  0.381 0.959 1.032 -0.623 0.614 ...\n",
      " $ Lag2     : num  -0.192 0.381 0.959 1.032 -0.623 ...\n",
      " $ Lag3     : num  -2.624 -0.192 0.381 0.959 1.032 ...\n",
      " $ Lag4     : num  -1.055 -2.624 -0.192 0.381 0.959 ...\n",
      " $ Lag5     : num  5.01 -1.055 -2.624 -0.192 0.381 ...\n",
      " $ Volume   : num  1.19 1.3 1.41 1.28 1.21 ...\n",
      " $ Today    : num  0.959 1.032 -0.623 0.614 0.213 ...\n",
      " $ Direction: Factor w/ 2 levels \"Down\",\"Up\": 2 2 1 2 2 2 1 2 2 2 ...\n"
     ]
    }
   ],
   "source": [
    "# convert the Year variable to an integer\n",
    "Smarket$Year <- as.integer(Smarket$Year)\n",
    "\n",
    "str(Smarket)"
   ]
  },
  {
   "cell_type": "markdown",
   "metadata": {},
   "source": [
    "Next we check if the data is technically correct. This means \n",
    "\n",
    "1) year should be in the past.\n",
    "\n",
    "2) volume should be bigger than or equal to zero.\n"
   ]
  },
  {
   "cell_type": "code",
   "execution_count": 4,
   "metadata": {},
   "outputs": [],
   "source": [
    "library(assertive)\n",
    "\n",
    "# check if year is in the range\n",
    "assert_all_are_in_closed_range(Smarket$Year, lower = 2001, upper = 2005)\n",
    "\n",
    "# check if the volume is negative\n",
    " assert_all_are_in_closed_range(Smarket$Volume, lower = 0)"
   ]
  },
  {
   "cell_type": "markdown",
   "metadata": {},
   "source": [
    "Looks like we are good with the data and is ready to make statistical inference."
   ]
  },
  {
   "cell_type": "markdown",
   "metadata": {},
   "source": [
    "# EDA"
   ]
  },
  {
   "cell_type": "code",
   "execution_count": 5,
   "metadata": {},
   "outputs": [
    {
     "data": {
      "text/html": [
       "<ol class=list-inline>\n",
       "\t<li>1250</li>\n",
       "\t<li>9</li>\n",
       "</ol>\n"
      ],
      "text/latex": [
       "\\begin{enumerate*}\n",
       "\\item 1250\n",
       "\\item 9\n",
       "\\end{enumerate*}\n"
      ],
      "text/markdown": [
       "1. 1250\n",
       "2. 9\n",
       "\n",
       "\n"
      ],
      "text/plain": [
       "[1] 1250    9"
      ]
     },
     "metadata": {},
     "output_type": "display_data"
    },
    {
     "data": {
      "text/plain": [
       "      Year           Lag1                Lag2                Lag3          \n",
       " Min.   :2001   Min.   :-4.922000   Min.   :-4.922000   Min.   :-4.922000  \n",
       " 1st Qu.:2002   1st Qu.:-0.639500   1st Qu.:-0.639500   1st Qu.:-0.640000  \n",
       " Median :2003   Median : 0.039000   Median : 0.039000   Median : 0.038500  \n",
       " Mean   :2003   Mean   : 0.003834   Mean   : 0.003919   Mean   : 0.001716  \n",
       " 3rd Qu.:2004   3rd Qu.: 0.596750   3rd Qu.: 0.596750   3rd Qu.: 0.596750  \n",
       " Max.   :2005   Max.   : 5.733000   Max.   : 5.733000   Max.   : 5.733000  \n",
       "      Lag4                Lag5              Volume           Today          \n",
       " Min.   :-4.922000   Min.   :-4.92200   Min.   :0.3561   Min.   :-4.922000  \n",
       " 1st Qu.:-0.640000   1st Qu.:-0.64000   1st Qu.:1.2574   1st Qu.:-0.639500  \n",
       " Median : 0.038500   Median : 0.03850   Median :1.4229   Median : 0.038500  \n",
       " Mean   : 0.001636   Mean   : 0.00561   Mean   :1.4783   Mean   : 0.003138  \n",
       " 3rd Qu.: 0.596750   3rd Qu.: 0.59700   3rd Qu.:1.6417   3rd Qu.: 0.596750  \n",
       " Max.   : 5.733000   Max.   : 5.73300   Max.   :3.1525   Max.   : 5.733000  \n",
       " Direction \n",
       " Down:602  \n",
       " Up  :648  \n",
       "           \n",
       "           \n",
       "           \n",
       "           "
      ]
     },
     "metadata": {},
     "output_type": "display_data"
    }
   ],
   "source": [
    "#look at the the data\n",
    "dim(Smarket)\n",
    "summary(Smarket)"
   ]
  },
  {
   "cell_type": "markdown",
   "metadata": {},
   "source": [
    "I will pair the variables to see if there are important informations:"
   ]
  },
  {
   "cell_type": "code",
   "execution_count": 6,
   "metadata": {
    "scrolled": true
   },
   "outputs": [
    {
     "ename": "ERROR",
     "evalue": "Error in cor(Smarket): 'x' must be numeric\n",
     "output_type": "error",
     "traceback": [
      "Error in cor(Smarket): 'x' must be numeric\nTraceback:\n",
      "1. cor(Smarket)",
      "2. stop(\"'x' must be numeric\")"
     ]
    }
   ],
   "source": [
    "cor(Smarket)"
   ]
  },
  {
   "cell_type": "markdown",
   "metadata": {},
   "source": [
    "Since the direction variable is not quantitative, we cannot make pair of it to other variables. Instead, I will pair all the variables up except direction:"
   ]
  },
  {
   "cell_type": "code",
   "execution_count": 7,
   "metadata": {
    "scrolled": true
   },
   "outputs": [
    {
     "data": {
      "text/html": [
       "<table>\n",
       "<thead><tr><th></th><th scope=col>Year</th><th scope=col>Lag1</th><th scope=col>Lag2</th><th scope=col>Lag3</th><th scope=col>Lag4</th><th scope=col>Lag5</th><th scope=col>Volume</th><th scope=col>Today</th></tr></thead>\n",
       "<tbody>\n",
       "\t<tr><th scope=row>Year</th><td>1.00000000  </td><td> 0.029699649</td><td> 0.030596422</td><td> 0.033194581</td><td> 0.035688718</td><td> 0.029787995</td><td> 0.53900647 </td><td> 0.030095229</td></tr>\n",
       "\t<tr><th scope=row>Lag1</th><td>0.02969965  </td><td> 1.000000000</td><td>-0.026294328</td><td>-0.010803402</td><td>-0.002985911</td><td>-0.005674606</td><td> 0.04090991 </td><td>-0.026155045</td></tr>\n",
       "\t<tr><th scope=row>Lag2</th><td>0.03059642  </td><td>-0.026294328</td><td> 1.000000000</td><td>-0.025896670</td><td>-0.010853533</td><td>-0.003557949</td><td>-0.04338321 </td><td>-0.010250033</td></tr>\n",
       "\t<tr><th scope=row>Lag3</th><td>0.03319458  </td><td>-0.010803402</td><td>-0.025896670</td><td> 1.000000000</td><td>-0.024051036</td><td>-0.018808338</td><td>-0.04182369 </td><td>-0.002447647</td></tr>\n",
       "\t<tr><th scope=row>Lag4</th><td>0.03568872  </td><td>-0.002985911</td><td>-0.010853533</td><td>-0.024051036</td><td> 1.000000000</td><td>-0.027083641</td><td>-0.04841425 </td><td>-0.006899527</td></tr>\n",
       "\t<tr><th scope=row>Lag5</th><td>0.02978799  </td><td>-0.005674606</td><td>-0.003557949</td><td>-0.018808338</td><td>-0.027083641</td><td> 1.000000000</td><td>-0.02200231 </td><td>-0.034860083</td></tr>\n",
       "\t<tr><th scope=row>Volume</th><td>0.53900647  </td><td> 0.040909908</td><td>-0.043383215</td><td>-0.041823686</td><td>-0.048414246</td><td>-0.022002315</td><td> 1.00000000 </td><td> 0.014591823</td></tr>\n",
       "\t<tr><th scope=row>Today</th><td>0.03009523  </td><td>-0.026155045</td><td>-0.010250033</td><td>-0.002447647</td><td>-0.006899527</td><td>-0.034860083</td><td> 0.01459182 </td><td> 1.000000000</td></tr>\n",
       "</tbody>\n",
       "</table>\n"
      ],
      "text/latex": [
       "\\begin{tabular}{r|llllllll}\n",
       "  & Year & Lag1 & Lag2 & Lag3 & Lag4 & Lag5 & Volume & Today\\\\\n",
       "\\hline\n",
       "\tYear & 1.00000000   &  0.029699649 &  0.030596422 &  0.033194581 &  0.035688718 &  0.029787995 &  0.53900647  &  0.030095229\\\\\n",
       "\tLag1 & 0.02969965   &  1.000000000 & -0.026294328 & -0.010803402 & -0.002985911 & -0.005674606 &  0.04090991  & -0.026155045\\\\\n",
       "\tLag2 & 0.03059642   & -0.026294328 &  1.000000000 & -0.025896670 & -0.010853533 & -0.003557949 & -0.04338321  & -0.010250033\\\\\n",
       "\tLag3 & 0.03319458   & -0.010803402 & -0.025896670 &  1.000000000 & -0.024051036 & -0.018808338 & -0.04182369  & -0.002447647\\\\\n",
       "\tLag4 & 0.03568872   & -0.002985911 & -0.010853533 & -0.024051036 &  1.000000000 & -0.027083641 & -0.04841425  & -0.006899527\\\\\n",
       "\tLag5 & 0.02978799   & -0.005674606 & -0.003557949 & -0.018808338 & -0.027083641 &  1.000000000 & -0.02200231  & -0.034860083\\\\\n",
       "\tVolume & 0.53900647   &  0.040909908 & -0.043383215 & -0.041823686 & -0.048414246 & -0.022002315 &  1.00000000  &  0.014591823\\\\\n",
       "\tToday & 0.03009523   & -0.026155045 & -0.010250033 & -0.002447647 & -0.006899527 & -0.034860083 &  0.01459182  &  1.000000000\\\\\n",
       "\\end{tabular}\n"
      ],
      "text/markdown": [
       "\n",
       "| <!--/--> | Year | Lag1 | Lag2 | Lag3 | Lag4 | Lag5 | Volume | Today |\n",
       "|---|---|---|---|---|---|---|---|---|\n",
       "| Year | 1.00000000   |  0.029699649 |  0.030596422 |  0.033194581 |  0.035688718 |  0.029787995 |  0.53900647  |  0.030095229 |\n",
       "| Lag1 | 0.02969965   |  1.000000000 | -0.026294328 | -0.010803402 | -0.002985911 | -0.005674606 |  0.04090991  | -0.026155045 |\n",
       "| Lag2 | 0.03059642   | -0.026294328 |  1.000000000 | -0.025896670 | -0.010853533 | -0.003557949 | -0.04338321  | -0.010250033 |\n",
       "| Lag3 | 0.03319458   | -0.010803402 | -0.025896670 |  1.000000000 | -0.024051036 | -0.018808338 | -0.04182369  | -0.002447647 |\n",
       "| Lag4 | 0.03568872   | -0.002985911 | -0.010853533 | -0.024051036 |  1.000000000 | -0.027083641 | -0.04841425  | -0.006899527 |\n",
       "| Lag5 | 0.02978799   | -0.005674606 | -0.003557949 | -0.018808338 | -0.027083641 |  1.000000000 | -0.02200231  | -0.034860083 |\n",
       "| Volume | 0.53900647   |  0.040909908 | -0.043383215 | -0.041823686 | -0.048414246 | -0.022002315 |  1.00000000  |  0.014591823 |\n",
       "| Today | 0.03009523   | -0.026155045 | -0.010250033 | -0.002447647 | -0.006899527 | -0.034860083 |  0.01459182  |  1.000000000 |\n",
       "\n"
      ],
      "text/plain": [
       "       Year       Lag1         Lag2         Lag3         Lag4        \n",
       "Year   1.00000000  0.029699649  0.030596422  0.033194581  0.035688718\n",
       "Lag1   0.02969965  1.000000000 -0.026294328 -0.010803402 -0.002985911\n",
       "Lag2   0.03059642 -0.026294328  1.000000000 -0.025896670 -0.010853533\n",
       "Lag3   0.03319458 -0.010803402 -0.025896670  1.000000000 -0.024051036\n",
       "Lag4   0.03568872 -0.002985911 -0.010853533 -0.024051036  1.000000000\n",
       "Lag5   0.02978799 -0.005674606 -0.003557949 -0.018808338 -0.027083641\n",
       "Volume 0.53900647  0.040909908 -0.043383215 -0.041823686 -0.048414246\n",
       "Today  0.03009523 -0.026155045 -0.010250033 -0.002447647 -0.006899527\n",
       "       Lag5         Volume      Today       \n",
       "Year    0.029787995  0.53900647  0.030095229\n",
       "Lag1   -0.005674606  0.04090991 -0.026155045\n",
       "Lag2   -0.003557949 -0.04338321 -0.010250033\n",
       "Lag3   -0.018808338 -0.04182369 -0.002447647\n",
       "Lag4   -0.027083641 -0.04841425 -0.006899527\n",
       "Lag5    1.000000000 -0.02200231 -0.034860083\n",
       "Volume -0.022002315  1.00000000  0.014591823\n",
       "Today  -0.034860083  0.01459182  1.000000000"
      ]
     },
     "metadata": {},
     "output_type": "display_data"
    }
   ],
   "source": [
    "cor(Smarket[,-9])"
   ]
  },
  {
   "cell_type": "markdown",
   "metadata": {},
   "source": [
    "As expected, the correlations between the lag variables and today's returns are close to zero. That is, there is little correlation between today's returns and previous days' return. The only pair worth looking is volume and year."
   ]
  },
  {
   "cell_type": "code",
   "execution_count": 8,
   "metadata": {},
   "outputs": [
    {
     "data": {
      "image/png": "[encoded data removed]",
      "text/plain": [
       "plot without title"
      ]
     },
     "metadata": {},
     "output_type": "display_data"
    }
   ],
   "source": [
    "# plotting the volume over the years.\n",
    "plot(Smarket$Volume, type = 'l')"
   ]
  },
  {
   "cell_type": "markdown",
   "metadata": {},
   "source": [
    "It looks like the number of shares traded has increased slightly, especially the last two hundred days."
   ]
  },
  {
   "cell_type": "markdown",
   "metadata": {},
   "source": [
    "# Model fitting"
   ]
  },
  {
   "cell_type": "markdown",
   "metadata": {},
   "source": [
    "Next, I will fit a logistic regression model. The resaon behind is we aim to predict the direction, and logistic model seems the best in this case. The dependent variable is Direction, and the independent variables are Lag1 through Lag5 and Volume:"
   ]
  },
  {
   "cell_type": "code",
   "execution_count": 9,
   "metadata": {},
   "outputs": [
    {
     "data": {
      "text/html": [
       "252"
      ],
      "text/latex": [
       "252"
      ],
      "text/markdown": [
       "252"
      ],
      "text/plain": [
       "[1] 252"
      ]
     },
     "metadata": {},
     "output_type": "display_data"
    }
   ],
   "source": [
    "# attach the columns of Smarket \n",
    "attach(Smarket)\n",
    "\n",
    "# Use the information before year 2005 as training data and year 2005 as testing data\n",
    "train <- (Year < 2005)\n",
    "\n",
    "# testing data\n",
    "Smarket.2005 <- Smarket[!train,]\n",
    "\n",
    "# observations of the testing data\n",
    "Direction.2005 <- Direction[!train]\n",
    "length(Direction.2005)"
   ]
  },
  {
   "cell_type": "markdown",
   "metadata": {},
   "source": [
    "Now I will fit a logistic model for the training data and try to predict the results of the testing data:"
   ]
  },
  {
   "cell_type": "code",
   "execution_count": 10,
   "metadata": {
    "scrolled": false
   },
   "outputs": [
    {
     "name": "stderr",
     "output_type": "stream",
     "text": [
      "\n",
      "Attaching package: 'MASS'\n",
      "\n",
      "The following object is masked from 'package:dplyr':\n",
      "\n",
      "    select\n",
      "\n"
     ]
    },
    {
     "data": {
      "text/plain": [
       "\n",
       "Call:\n",
       "glm(formula = Direction ~ Lag1 + Lag2 + Lag3 + Lag4 + Lag5 + \n",
       "    Volume, family = binomial, data = Smarket, subset = train)\n",
       "\n",
       "Deviance Residuals: \n",
       "   Min      1Q  Median      3Q     Max  \n",
       "-1.302  -1.190   1.079   1.160   1.350  \n",
       "\n",
       "Coefficients:\n",
       "             Estimate Std. Error z value Pr(>|z|)\n",
       "(Intercept)  0.191213   0.333690   0.573    0.567\n",
       "Lag1        -0.054178   0.051785  -1.046    0.295\n",
       "Lag2        -0.045805   0.051797  -0.884    0.377\n",
       "Lag3         0.007200   0.051644   0.139    0.889\n",
       "Lag4         0.006441   0.051706   0.125    0.901\n",
       "Lag5        -0.004223   0.051138  -0.083    0.934\n",
       "Volume      -0.116257   0.239618  -0.485    0.628\n",
       "\n",
       "(Dispersion parameter for binomial family taken to be 1)\n",
       "\n",
       "    Null deviance: 1383.3  on 997  degrees of freedom\n",
       "Residual deviance: 1381.1  on 991  degrees of freedom\n",
       "AIC: 1395.1\n",
       "\n",
       "Number of Fisher Scoring iterations: 3\n"
      ]
     },
     "metadata": {},
     "output_type": "display_data"
    }
   ],
   "source": [
    "# package for logistic model\n",
    "library(MASS)\n",
    "\n",
    "# model\n",
    "log_mod <- glm(Direction ~ Lag1 + Lag2 + Lag3 + Lag4 + Lag5 + Volume, data = Smarket, family = binomial, subset = train)\n",
    "summary(log_mod)"
   ]
  },
  {
   "cell_type": "markdown",
   "metadata": {},
   "source": [
    "All the p-values in the model are very large (With Lag1 being the smallest but still a lot bigger than 0.05, the standard used alpha to accept or reject null hyponesises). It suggests that the there might not be a big correlation between the variables and the Direction. Now I will compare the results with the observations to see the accuracy of the model:"
   ]
  },
  {
   "cell_type": "code",
   "execution_count": 11,
   "metadata": {},
   "outputs": [
    {
     "data": {
      "text/plain": [
       "            Direction.2005\n",
       "log_mod.pred Down Up\n",
       "        Down   77 97\n",
       "        Up     34 44"
      ]
     },
     "metadata": {},
     "output_type": "display_data"
    },
    {
     "data": {
      "text/html": [
       "0.48015873015873"
      ],
      "text/latex": [
       "0.48015873015873"
      ],
      "text/markdown": [
       "0.48015873015873"
      ],
      "text/plain": [
       "[1] 0.4801587"
      ]
     },
     "metadata": {},
     "output_type": "display_data"
    }
   ],
   "source": [
    "# prediction probability\n",
    "log_mod.prob <- predict(log_mod, Smarket.2005, type = \"response\")\n",
    "\n",
    "# prediction vector of the model\n",
    "log_mod.pred <- rep(\"Down\", 252)\n",
    "log_mod.pred[log_mod.prob > 0.5] <- \"Up\"\n",
    "\n",
    "# prediction table comparing to test results\n",
    "table(log_mod.pred, Direction.2005)\n",
    "\n",
    "# prediction accuracy\n",
    "mean(log_mod.pred == Direction.2005)"
   ]
  },
  {
   "cell_type": "markdown",
   "metadata": {},
   "source": [
    "We have created a $48\\%$ accuracy. This is very bad because have an accuracy lower than $50\\%$ means that the model is actually worse than random guessing. Perhaps we can do better by removing variables that is almost uncorrelated to the model assumed by the previous model. Looking back, we can see that the p-values for Lag3, Lag4, Lag5 and Volume is huge, which suggests that those variables does not affect the Direction. Therefore, we are just going to drop those and make a new model:"
   ]
  },
  {
   "cell_type": "code",
   "execution_count": 12,
   "metadata": {},
   "outputs": [
    {
     "data": {
      "text/plain": [
       "             Direction.2005\n",
       "log_mod2.pred Down  Up\n",
       "         Down   35  35\n",
       "         Up     76 106"
      ]
     },
     "metadata": {},
     "output_type": "display_data"
    },
    {
     "data": {
      "text/html": [
       "0.55952380952381"
      ],
      "text/latex": [
       "0.55952380952381"
      ],
      "text/markdown": [
       "0.55952380952381"
      ],
      "text/plain": [
       "[1] 0.5595238"
      ]
     },
     "metadata": {},
     "output_type": "display_data"
    }
   ],
   "source": [
    "# new model\n",
    "log_mod2 <- glm(Direction ~ Lag1 + Lag2, data = Smarket, family = binomial, subset = train)\n",
    "\n",
    "# prediction probability\n",
    "log_mod2.prob <- predict(log_mod2, Smarket.2005, type = \"response\")\n",
    "\n",
    "# prediction vector of the model\n",
    "log_mod2.pred <- rep(\"Down\", 252)\n",
    "log_mod2.pred[log_mod2.prob > 0.5] <- \"Up\"\n",
    "\n",
    "# prediction table comparing to test results\n",
    "table(log_mod2.pred, Direction.2005)\n",
    "\n",
    "# prediction accuracy\n",
    "mean(log_mod2.pred == Direction.2005)"
   ]
  },
  {
   "cell_type": "markdown",
   "metadata": {},
   "source": [
    "The new model shows a $56\\%$ accuracy. It slightly increased, but is still not a very good model. However, this is as expected, since there is a rare chance a model can produce a high accuracy on predicting the movements of a stock market."
   ]
  },
  {
   "cell_type": "markdown",
   "metadata": {},
   "source": [
    "Next, I will try fitting a KNN model to see if the results are better. It is shown in the above that Lag1 and Lag2 might be the only predictors that affect the response. Therefore, in the KNN model, I am using only Lag1 and Lag2."
   ]
  },
  {
   "cell_type": "code",
   "execution_count": 13,
   "metadata": {},
   "outputs": [],
   "source": [
    "# KNN model package\n",
    "library(class)\n",
    "\n",
    "# data structure required for KNN model\n",
    "\n",
    "# predictors for training data\n",
    "train.X <- cbind(Lag1 ,Lag2)[train ,]\n",
    "# predictors for training data\n",
    "test.X <- cbind (Lag1 ,Lag2)[!train ,]\n",
    "# response for training data\n",
    "train.Direction <- Direction [train]\n",
    "# response for testing data\n",
    "Direction.2005 <- Direction[!train]"
   ]
  },
  {
   "cell_type": "markdown",
   "metadata": {},
   "source": [
    "Notice for KNN model, the choosing of $K$ affects how good model accuracy is. Since this is a classification problem, the best metric to evaluate the performance model is through the ROC curve and the best model has the highest AUC."
   ]
  },
  {
   "cell_type": "code",
   "execution_count": 14,
   "metadata": {},
   "outputs": [
    {
     "ename": "ERROR",
     "evalue": "Error in which(accuracy == max(K)): object 'K' not found\n",
     "output_type": "error",
     "traceback": [
      "Error in which(accuracy == max(K)): object 'K' not found\nTraceback:\n",
      "1. which(accuracy == max(K))"
     ]
    }
   ],
   "source": [
    "# empty vector\n",
    "accuracy <- c()\n",
    "\n",
    "for (i in 1:30) {\n",
    "  set.seed (1)\n",
    "# knn model with K ranging from 1 to 30\n",
    "  knn.pred <- knn(train.X, test.X, train.Direction , k=i)\n",
    "  table <- table(knn.pred , Direction.2005)\n",
    "# save accuracy to the empty vector\n",
    "  accuracy[i] <- (table[1,1] + table[2,2]) / (table[1,1] + table[2,2] + table[1,2] + table[2,1])\n",
    "}\n",
    "\n",
    "# K with the highest accuracy\n",
    "bestK <- which(accuracy == max(K))\n",
    "bestK\n",
    "\n",
    "# highest accuracy\n",
    "accuracy[bestK]"
   ]
  },
  {
   "cell_type": "markdown",
   "metadata": {},
   "source": [
    "Here we can see the accuracy is highest with $K = 3,11$. Both of them has an accuracy of $53 \\%$, which is even lower than the second logistic regression model. Therefore, I will pick the second logistic model over the KNN models for this project."
   ]
  },
  {
   "cell_type": "markdown",
   "metadata": {},
   "source": [
    "# Conclusion"
   ]
  },
  {
   "cell_type": "markdown",
   "metadata": {},
   "source": [
    "Given the relatively low accuracy of the models created. My reasoning is due to the lack of informations provided on the data set. Generally, the lag return combining with the volume aren't enough to provide insights of whethere the market goes up or down. We need extra information to predict the market. However, based on the model, we can create some strategy revolving around the strngths of the model For example, the model has a higher accuracy on predicting the upward movement of the market:"
   ]
  },
  {
   "cell_type": "code",
   "execution_count": null,
   "metadata": {},
   "outputs": [],
   "source": [
    "# accuracy of predicting up when the market goes up\n",
    "106 / (76 + 106)"
   ]
  },
  {
   "cell_type": "markdown",
   "metadata": {},
   "source": [
    "One of the strategies is to buy on days when the model predicts an inceasing market, and avoid trading on days where the model predicts a downward market."
   ]
  }
 ],
 "metadata": {
  "kernelspec": {
   "display_name": "R",
   "language": "R",
   "name": "ir"
  },
  "language_info": {
   "codemirror_mode": "r",
   "file_extension": ".r",
   "mimetype": "text/x-r-source",
   "name": "R",
   "pygments_lexer": "r",
   "version": "3.6.1"
  }
 },
 "nbformat": 4,
 "nbformat_minor": 4
}
