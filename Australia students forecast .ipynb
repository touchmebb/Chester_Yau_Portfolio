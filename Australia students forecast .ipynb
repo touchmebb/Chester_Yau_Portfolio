{
 "cells": [
  {
   "cell_type": "markdown",
   "metadata": {},
   "source": [
    "# Forecasting incoming international students"
   ]
  },
  {
   "cell_type": "markdown",
   "metadata": {},
   "source": [
    "This project aims to forecast international students in Australia in the upcoming years.\n",
    "\n",
    "I have obtained the data from the Department of Education, skills and employment of Australian government."
   ]
  },
  {
   "cell_type": "markdown",
   "metadata": {},
   "source": [
    "# Data selecting and cleaning"
   ]
  },
  {
   "cell_type": "markdown",
   "metadata": {},
   "source": [
    "The data provided by the department is of the form of pivot table. It provdes monthly enrolments and commencements of international students from different sectors (Higher education, VET, Schools, ELICOS, non-award).\n",
    "\n",
    "In this project, since the we are interested in incoming international students of all forms, I am extracting only the total of international students monthly from all years the department can provide (2002 to 2020).\n",
    "\n",
    "The file international_students.csv is the file I created by extracting data from the original pivot table."
   ]
  },
  {
   "cell_type": "code",
   "execution_count": 1,
   "metadata": {},
   "outputs": [
    {
     "data": {
      "text/html": [
       "<table>\n",
       "<thead><tr><th scope=col>ï..Year</th><th scope=col>Month</th><th scope=col>Student.Enrolment.</th><th scope=col>Student.Commencement.</th><th scope=col>X</th><th scope=col>X.1</th><th scope=col>X.2</th><th scope=col>X.3</th><th scope=col>X.4</th><th scope=col>X.5</th><th scope=col>...</th><th scope=col>X.27</th><th scope=col>X.28</th><th scope=col>X.29</th><th scope=col>X.30</th><th scope=col>X.31</th><th scope=col>X.32</th><th scope=col>X.33</th><th scope=col>X.34</th><th scope=col>X.35</th><th scope=col>X.36</th></tr></thead>\n",
       "<tbody>\n",
       "\t<tr><td>2002   </td><td>January</td><td>126,316</td><td>12,911 </td><td>NA     </td><td>NA     </td><td>NA     </td><td>NA     </td><td>NA     </td><td>NA     </td><td>...    </td><td>NA     </td><td>NA     </td><td>NA     </td><td>NA     </td><td>NA     </td><td>NA     </td><td>NA     </td><td>NA     </td><td>NA     </td><td>NA     </td></tr>\n",
       "\t<tr><td>2003   </td><td>January</td><td>148,417</td><td>13,493 </td><td>NA     </td><td>NA     </td><td>NA     </td><td>NA     </td><td>NA     </td><td>NA     </td><td>...    </td><td>NA     </td><td>NA     </td><td>NA     </td><td>NA     </td><td>NA     </td><td>NA     </td><td>NA     </td><td>NA     </td><td>NA     </td><td>NA     </td></tr>\n",
       "\t<tr><td>2004   </td><td>January</td><td>162,158</td><td>13,737 </td><td>NA     </td><td>NA     </td><td>NA     </td><td>NA     </td><td>NA     </td><td>NA     </td><td>...    </td><td>NA     </td><td>NA     </td><td>NA     </td><td>NA     </td><td>NA     </td><td>NA     </td><td>NA     </td><td>NA     </td><td>NA     </td><td>NA     </td></tr>\n",
       "\t<tr><td>2005   </td><td>January</td><td>176,972</td><td>16,856 </td><td>NA     </td><td>NA     </td><td>NA     </td><td>NA     </td><td>NA     </td><td>NA     </td><td>...    </td><td>NA     </td><td>NA     </td><td>NA     </td><td>NA     </td><td>NA     </td><td>NA     </td><td>NA     </td><td>NA     </td><td>NA     </td><td>NA     </td></tr>\n",
       "\t<tr><td>2006   </td><td>January</td><td>190,367</td><td>18,078 </td><td>NA     </td><td>NA     </td><td>NA     </td><td>NA     </td><td>NA     </td><td>NA     </td><td>...    </td><td>NA     </td><td>NA     </td><td>NA     </td><td>NA     </td><td>NA     </td><td>NA     </td><td>NA     </td><td>NA     </td><td>NA     </td><td>NA     </td></tr>\n",
       "\t<tr><td>2007   </td><td>January</td><td>213,006</td><td>23,149 </td><td>NA     </td><td>NA     </td><td>NA     </td><td>NA     </td><td>NA     </td><td>NA     </td><td>...    </td><td>NA     </td><td>NA     </td><td>NA     </td><td>NA     </td><td>NA     </td><td>NA     </td><td>NA     </td><td>NA     </td><td>NA     </td><td>NA     </td></tr>\n",
       "</tbody>\n",
       "</table>\n"
      ],
      "text/latex": [
       "\\begin{tabular}{r|lllllllllllllllllllllllllllllllllllllllll}\n",
       " ï..Year & Month & Student.Enrolment. & Student.Commencement. & X & X.1 & X.2 & X.3 & X.4 & X.5 & ... & X.27 & X.28 & X.29 & X.30 & X.31 & X.32 & X.33 & X.34 & X.35 & X.36\\\\\n",
       "\\hline\n",
       "\t 2002    & January & 126,316 & 12,911  & NA      & NA      & NA      & NA      & NA      & NA      & ...     & NA      & NA      & NA      & NA      & NA      & NA      & NA      & NA      & NA      & NA     \\\\\n",
       "\t 2003    & January & 148,417 & 13,493  & NA      & NA      & NA      & NA      & NA      & NA      & ...     & NA      & NA      & NA      & NA      & NA      & NA      & NA      & NA      & NA      & NA     \\\\\n",
       "\t 2004    & January & 162,158 & 13,737  & NA      & NA      & NA      & NA      & NA      & NA      & ...     & NA      & NA      & NA      & NA      & NA      & NA      & NA      & NA      & NA      & NA     \\\\\n",
       "\t 2005    & January & 176,972 & 16,856  & NA      & NA      & NA      & NA      & NA      & NA      & ...     & NA      & NA      & NA      & NA      & NA      & NA      & NA      & NA      & NA      & NA     \\\\\n",
       "\t 2006    & January & 190,367 & 18,078  & NA      & NA      & NA      & NA      & NA      & NA      & ...     & NA      & NA      & NA      & NA      & NA      & NA      & NA      & NA      & NA      & NA     \\\\\n",
       "\t 2007    & January & 213,006 & 23,149  & NA      & NA      & NA      & NA      & NA      & NA      & ...     & NA      & NA      & NA      & NA      & NA      & NA      & NA      & NA      & NA      & NA     \\\\\n",
       "\\end{tabular}\n"
      ],
      "text/markdown": [
       "\n",
       "| ï..Year | Month | Student.Enrolment. | Student.Commencement. | X | X.1 | X.2 | X.3 | X.4 | X.5 | ... | X.27 | X.28 | X.29 | X.30 | X.31 | X.32 | X.33 | X.34 | X.35 | X.36 |\n",
       "|---|---|---|---|---|---|---|---|---|---|---|---|---|---|---|---|---|---|---|---|---|\n",
       "| 2002    | January | 126,316 | 12,911  | NA      | NA      | NA      | NA      | NA      | NA      | ...     | NA      | NA      | NA      | NA      | NA      | NA      | NA      | NA      | NA      | NA      |\n",
       "| 2003    | January | 148,417 | 13,493  | NA      | NA      | NA      | NA      | NA      | NA      | ...     | NA      | NA      | NA      | NA      | NA      | NA      | NA      | NA      | NA      | NA      |\n",
       "| 2004    | January | 162,158 | 13,737  | NA      | NA      | NA      | NA      | NA      | NA      | ...     | NA      | NA      | NA      | NA      | NA      | NA      | NA      | NA      | NA      | NA      |\n",
       "| 2005    | January | 176,972 | 16,856  | NA      | NA      | NA      | NA      | NA      | NA      | ...     | NA      | NA      | NA      | NA      | NA      | NA      | NA      | NA      | NA      | NA      |\n",
       "| 2006    | January | 190,367 | 18,078  | NA      | NA      | NA      | NA      | NA      | NA      | ...     | NA      | NA      | NA      | NA      | NA      | NA      | NA      | NA      | NA      | NA      |\n",
       "| 2007    | January | 213,006 | 23,149  | NA      | NA      | NA      | NA      | NA      | NA      | ...     | NA      | NA      | NA      | NA      | NA      | NA      | NA      | NA      | NA      | NA      |\n",
       "\n"
      ],
      "text/plain": [
       "  ï..Year Month   Student.Enrolment. Student.Commencement. X  X.1 X.2 X.3 X.4\n",
       "1 2002    January 126,316            12,911                NA NA  NA  NA  NA \n",
       "2 2003    January 148,417            13,493                NA NA  NA  NA  NA \n",
       "3 2004    January 162,158            13,737                NA NA  NA  NA  NA \n",
       "4 2005    January 176,972            16,856                NA NA  NA  NA  NA \n",
       "5 2006    January 190,367            18,078                NA NA  NA  NA  NA \n",
       "6 2007    January 213,006            23,149                NA NA  NA  NA  NA \n",
       "  X.5 ... X.27 X.28 X.29 X.30 X.31 X.32 X.33 X.34 X.35 X.36\n",
       "1 NA  ... NA   NA   NA   NA   NA   NA   NA   NA   NA   NA  \n",
       "2 NA  ... NA   NA   NA   NA   NA   NA   NA   NA   NA   NA  \n",
       "3 NA  ... NA   NA   NA   NA   NA   NA   NA   NA   NA   NA  \n",
       "4 NA  ... NA   NA   NA   NA   NA   NA   NA   NA   NA   NA  \n",
       "5 NA  ... NA   NA   NA   NA   NA   NA   NA   NA   NA   NA  \n",
       "6 NA  ... NA   NA   NA   NA   NA   NA   NA   NA   NA   NA  "
      ]
     },
     "metadata": {},
     "output_type": "display_data"
    },
    {
     "data": {
      "text/html": [
       "'factor'"
      ],
      "text/latex": [
       "'factor'"
      ],
      "text/markdown": [
       "'factor'"
      ],
      "text/plain": [
       "[1] \"factor\""
      ]
     },
     "metadata": {},
     "output_type": "display_data"
    },
    {
     "data": {
      "text/html": [
       "'factor'"
      ],
      "text/latex": [
       "'factor'"
      ],
      "text/markdown": [
       "'factor'"
      ],
      "text/plain": [
       "[1] \"factor\""
      ]
     },
     "metadata": {},
     "output_type": "display_data"
    }
   ],
   "source": [
    "# read data\n",
    "data <- read.csv(\"international_student.csv\", header = TRUE)\n",
    "head(data)\n",
    "\n",
    "class(data$Student.Enrolment)\n",
    "class(data$Student.Commencement)"
   ]
  },
  {
   "cell_type": "code",
   "execution_count": 2,
   "metadata": {},
   "outputs": [
    {
     "data": {
      "text/html": [
       "<table>\n",
       "<thead><tr><th scope=col>year</th><th scope=col>Month</th><th scope=col>Student_Enrolment</th><th scope=col>Student_Commencement</th></tr></thead>\n",
       "<tbody>\n",
       "\t<tr><td>2002   </td><td>January</td><td>126,316</td><td>12,911 </td></tr>\n",
       "\t<tr><td>2003   </td><td>January</td><td>148,417</td><td>13,493 </td></tr>\n",
       "\t<tr><td>2004   </td><td>January</td><td>162,158</td><td>13,737 </td></tr>\n",
       "\t<tr><td>2005   </td><td>January</td><td>176,972</td><td>16,856 </td></tr>\n",
       "\t<tr><td>2006   </td><td>January</td><td>190,367</td><td>18,078 </td></tr>\n",
       "\t<tr><td>2007   </td><td>January</td><td>213,006</td><td>23,149 </td></tr>\n",
       "</tbody>\n",
       "</table>\n"
      ],
      "text/latex": [
       "\\begin{tabular}{r|llll}\n",
       " year & Month & Student\\_Enrolment & Student\\_Commencement\\\\\n",
       "\\hline\n",
       "\t 2002    & January & 126,316 & 12,911 \\\\\n",
       "\t 2003    & January & 148,417 & 13,493 \\\\\n",
       "\t 2004    & January & 162,158 & 13,737 \\\\\n",
       "\t 2005    & January & 176,972 & 16,856 \\\\\n",
       "\t 2006    & January & 190,367 & 18,078 \\\\\n",
       "\t 2007    & January & 213,006 & 23,149 \\\\\n",
       "\\end{tabular}\n"
      ],
      "text/markdown": [
       "\n",
       "| year | Month | Student_Enrolment | Student_Commencement |\n",
       "|---|---|---|---|\n",
       "| 2002    | January | 126,316 | 12,911  |\n",
       "| 2003    | January | 148,417 | 13,493  |\n",
       "| 2004    | January | 162,158 | 13,737  |\n",
       "| 2005    | January | 176,972 | 16,856  |\n",
       "| 2006    | January | 190,367 | 18,078  |\n",
       "| 2007    | January | 213,006 | 23,149  |\n",
       "\n"
      ],
      "text/plain": [
       "  year Month   Student_Enrolment Student_Commencement\n",
       "1 2002 January 126,316           12,911              \n",
       "2 2003 January 148,417           13,493              \n",
       "3 2004 January 162,158           13,737              \n",
       "4 2005 January 176,972           16,856              \n",
       "5 2006 January 190,367           18,078              \n",
       "6 2007 January 213,006           23,149              "
      ]
     },
     "metadata": {},
     "output_type": "display_data"
    }
   ],
   "source": [
    "# take only the first 4 columns\n",
    "data <- data[,1:4]\n",
    "\n",
    "# give correct column namems\n",
    "colnames(data) <- c(\"year\", \"Month\", \"Student_Enrolment\", \"Student_Commencement\")\n",
    "\n",
    "head(data)"
   ]
  },
  {
   "cell_type": "markdown",
   "metadata": {},
   "source": [
    "Here we can see that the data is ordered first by month, then by year.\n",
    "\n",
    "Clearly it is a time-series data and we need to order the data from month to month, then year to year."
   ]
  },
  {
   "cell_type": "code",
   "execution_count": 3,
   "metadata": {},
   "outputs": [],
   "source": [
    "# correct data type for Student\n",
    "data$Student_Enrolment <- as.numeric(gsub(\",\", \"\", data$Student_Enrolment))\n",
    "data$Student_Commencement <- as.numeric(gsub(\",\", \"\", data$Student_Commencement))"
   ]
  },
  {
   "cell_type": "code",
   "execution_count": 4,
   "metadata": {},
   "outputs": [],
   "source": [
    "# we use student_Commencement only for this project\n",
    "data <- data[,-3]"
   ]
  },
  {
   "cell_type": "code",
   "execution_count": 5,
   "metadata": {},
   "outputs": [
    {
     "data": {
      "text/html": [
       "<ol class=list-inline>\n",
       "\t<li>12911</li>\n",
       "\t<li>45051</li>\n",
       "\t<li>73894</li>\n",
       "\t<li>82017</li>\n",
       "\t<li>87007</li>\n",
       "\t<li>91880</li>\n",
       "</ol>\n"
      ],
      "text/latex": [
       "\\begin{enumerate*}\n",
       "\\item 12911\n",
       "\\item 45051\n",
       "\\item 73894\n",
       "\\item 82017\n",
       "\\item 87007\n",
       "\\item 91880\n",
       "\\end{enumerate*}\n"
      ],
      "text/markdown": [
       "1. 12911\n",
       "2. 45051\n",
       "3. 73894\n",
       "4. 82017\n",
       "5. 87007\n",
       "6. 91880\n",
       "\n",
       "\n"
      ],
      "text/plain": [
       "[1] 12911 45051 73894 82017 87007 91880"
      ]
     },
     "metadata": {},
     "output_type": "display_data"
    }
   ],
   "source": [
    "new_data <- c()\n",
    "\n",
    "# order the data correctly\n",
    "for (j in 1:19){\n",
    "  for (i in 1:12){\n",
    "        new_data[i+12*(j-1)] <- data[19*(i-1)+j,3]\n",
    "  }   \n",
    "}\n",
    "\n",
    "data <- new_data[1:227]\n",
    "\n",
    "head(data)"
   ]
  },
  {
   "cell_type": "code",
   "execution_count": 6,
   "metadata": {},
   "outputs": [
    {
     "data": {
      "text/html": [
       "<table>\n",
       "<thead><tr><th scope=col>Student_Commencement</th></tr></thead>\n",
       "<tbody>\n",
       "\t<tr><td>12911</td></tr>\n",
       "\t<tr><td>45051</td></tr>\n",
       "\t<tr><td>73894</td></tr>\n",
       "\t<tr><td>82017</td></tr>\n",
       "\t<tr><td>87007</td></tr>\n",
       "\t<tr><td>91880</td></tr>\n",
       "</tbody>\n",
       "</table>\n"
      ],
      "text/latex": [
       "\\begin{tabular}{r|l}\n",
       " Student\\_Commencement\\\\\n",
       "\\hline\n",
       "\t 12911\\\\\n",
       "\t 45051\\\\\n",
       "\t 73894\\\\\n",
       "\t 82017\\\\\n",
       "\t 87007\\\\\n",
       "\t 91880\\\\\n",
       "\\end{tabular}\n"
      ],
      "text/markdown": [
       "\n",
       "| Student_Commencement |\n",
       "|---|\n",
       "| 12911 |\n",
       "| 45051 |\n",
       "| 73894 |\n",
       "| 82017 |\n",
       "| 87007 |\n",
       "| 91880 |\n",
       "\n"
      ],
      "text/plain": [
       "  Student_Commencement\n",
       "1 12911               \n",
       "2 45051               \n",
       "3 73894               \n",
       "4 82017               \n",
       "5 87007               \n",
       "6 91880               "
      ]
     },
     "metadata": {},
     "output_type": "display_data"
    }
   ],
   "source": [
    "data_visual <- data.frame(data)\n",
    "colnames(data_visual) <- \"Student_Commencement\"\n",
    "\n",
    "head(data_visual)"
   ]
  },
  {
   "cell_type": "markdown",
   "metadata": {},
   "source": [
    "# Exploratory data analysis"
   ]
  },
  {
   "cell_type": "markdown",
   "metadata": {},
   "source": [
    "Now we have what we need. I will first plot the data to see how the data behave."
   ]
  },
  {
   "cell_type": "code",
   "execution_count": 7,
   "metadata": {},
   "outputs": [
    {
     "data": {
      "image/png": "[encoded data removed]",
      "text/plain": [
       "plot without title"
      ]
     },
     "metadata": {},
     "output_type": "display_data"
    }
   ],
   "source": [
    "options(repr.plot.width=8, repr.plot.height=5)\n",
    "plot(data, type = \"o\", xlab = \"month\", ylab = \"international student\")\n",
    "\n",
    "# smoothing curve to check if the variance is stationary.\n",
    "ma50 <- filter(data,sides=2,rep(1,50)/50)\n",
    "lines(ma50, col = 'red')"
   ]
  },
  {
   "cell_type": "markdown",
   "metadata": {},
   "source": [
    "Here, notice that for each year, it only increase for each month. It is only now I notice that the numbers I got is actually the cumulative sum for each year. \n",
    "\n",
    "To make further analysis, I have to reverse it to commencments for each month."
   ]
  },
  {
   "cell_type": "code",
   "execution_count": 8,
   "metadata": {},
   "outputs": [],
   "source": [
    "new_data <- c()\n",
    "\n",
    "# reverse the cumsum function\n",
    "for (i in 1:19){\n",
    "    x <- data[((i-1)*12+1):((i-1)*12+12)]\n",
    "    y <- c(x[1],diff(x))\n",
    "    new_data <- c(new_data, y)\n",
    "}\n",
    "\n",
    "data <- new_data[1:227]"
   ]
  },
  {
   "cell_type": "code",
   "execution_count": 32,
   "metadata": {},
   "outputs": [
    {
     "data": {
      "image/png": "[encoded data removed]",
      "text/plain": [
       "plot without title"
      ]
     },
     "metadata": {},
     "output_type": "display_data"
    }
   ],
   "source": [
    "options(repr.plot.width=8, repr.plot.height=5)\n",
    "\n",
    "plot(data, type = \"o\", xlab = \"month\", ylab = \"international student\")\n",
    "\n",
    "ma50 <- filter(data,sides=2,rep(1,50)/50)\n",
    "lines(ma50, col = 'red')\n",
    "\n",
    "abline(v = 212+0.5, lty = 'dotted', col = \"blue\")"
   ]
  },
  {
   "cell_type": "markdown",
   "metadata": {},
   "source": [
    "It looks like the variance is not too stationary. However, it is pretty linear, which is quite a surpise to me, since I assumed there would be a huge impact on international students enrollment during the pandemic in 2020.\n",
    "\n",
    "In time-series analysis, it is a standard proceedure to take a log on the data when it is fluctuating. I will do it here as well."
   ]
  },
  {
   "cell_type": "code",
   "execution_count": 33,
   "metadata": {},
   "outputs": [
    {
     "data": {
      "image/png": "[encoded data removed]",
      "text/plain": [
       "plot without title"
      ]
     },
     "metadata": {},
     "output_type": "display_data"
    }
   ],
   "source": [
    "y <- log(data)\n",
    "\n",
    "options(repr.plot.width=8, repr.plot.height=4)\n",
    "\n",
    "plot(y, type = \"o\", xlab = \"month\", ylab = \"logged international student\")\n",
    "\n",
    "ma50 <- filter(y,sides=2,rep(1,50)/50)\n",
    "lines(ma50, col = 'red')\n",
    "\n",
    "abline(v = 212+0.5, lty = 'dotted', col = \"blue\")"
   ]
  },
  {
   "cell_type": "markdown",
   "metadata": {},
   "source": [
    "The data looks pretty stationary to me now. Next, we will examine the data with knowledge of the enrolment of school."
   ]
  },
  {
   "cell_type": "markdown",
   "metadata": {},
   "source": [
    "We know that in Australia, there are typically 2 semesters/sessions, the Autumn and Summer sessions which starts at around February and July respectively. Therefore, it would be reasonable to assume that there is a seasonal trend in the data, with February and July being the peak. Lets plot the data to see if it is true."
   ]
  },
  {
   "cell_type": "code",
   "execution_count": 11,
   "metadata": {},
   "outputs": [
    {
     "data": {
      "image/png": "[encoded data removed]",
      "text/plain": [
       "plot without title"
      ]
     },
     "metadata": {},
     "output_type": "display_data"
    }
   ],
   "source": [
    "options(repr.plot.width=8, repr.plot.height=4)\n",
    "\n",
    "# plot the data for each year.\n",
    "plot(y[((i-1)*12+1):((i-1)*12+12)], type = \"l\", ylim = c(6,12), xlab = \"month\", ylab = \"logged students\") \n",
    "for (i in 2:19){\n",
    "    lines(y[((i-1)*12+1):((i-1)*12+12)], type = \"b\", col = i)\n",
    "}"
   ]
  },
  {
   "cell_type": "markdown",
   "metadata": {},
   "source": [
    "Looks like we are right. With this, we can assume that a seasonal component exists in the series.\n",
    "\n",
    "Next, we will take a look at the ACF and PACF plot to see which time-series model is suitable for the data."
   ]
  },
  {
   "cell_type": "code",
   "execution_count": 12,
   "metadata": {
    "scrolled": false
   },
   "outputs": [
    {
     "data": {
      "image/png": "[encoded data removed]",
      "text/plain": [
       "Plot with title \"SPACF of log series\""
      ]
     },
     "metadata": {},
     "output_type": "display_data"
    }
   ],
   "source": [
    "par(mfrow = c(1,2))\n",
    "options(repr.plot.width=8, repr.plot.height=4)\n",
    "acf(y, main = 'SACF of log series')\n",
    "pacf(y, main = 'SPACF of log series')"
   ]
  },
  {
   "cell_type": "markdown",
   "metadata": {},
   "source": [
    "From the ACF and PACF plot, we can clearly see that there is a high correlation at lag 12. This means that the amount of international students each month depends a lot on the previous year at the same month. This means that the data is definitly seasonal. \n",
    "\n",
    "We can use differening to remove the component."
   ]
  },
  {
   "cell_type": "code",
   "execution_count": 35,
   "metadata": {
    "scrolled": false
   },
   "outputs": [
    {
     "data": {
      "image/png": "[encoded data removed]",
      "text/plain": [
       "plot without title"
      ]
     },
     "metadata": {},
     "output_type": "display_data"
    }
   ],
   "source": [
    "z <- diff(y, 12)\n",
    "\n",
    "options(repr.plot.width=8, repr.plot.height=5)\n",
    "\n",
    "plot(z, type = \"o\", xlab = \"month\", ylab = \"international student\")\n",
    "\n",
    "ma50 <- filter(z,sides=2,rep(1,50)/50)\n",
    "lines(ma50, col = 'red')"
   ]
  },
  {
   "cell_type": "markdown",
   "metadata": {},
   "source": [
    "Now that we have differenced the series, we can see some clear decay at the end of the series (after 200, which is 2020 and onwards). Of course, this is due to the pandemic. We will now check on the ACF and PACF plot."
   ]
  },
  {
   "cell_type": "code",
   "execution_count": 14,
   "metadata": {},
   "outputs": [
    {
     "data": {
      "image/png": "[encoded data removed]",
      "text/plain": [
       "Plot with title \"SPACF of log series\""
      ]
     },
     "metadata": {},
     "output_type": "display_data"
    }
   ],
   "source": [
    "par(mfrow = c(1,2))\n",
    "options(repr.plot.width=8, repr.plot.height=4)\n",
    "acf(z, main = 'SACF of log series')\n",
    "pacf(z, main = 'SPACF of log series')"
   ]
  },
  {
   "cell_type": "markdown",
   "metadata": {},
   "source": [
    "Finally, it looks 'normal' now, and we can work our techniques from textbooks. We will first check if a unit root exists in the series, using the Augmented Dickey-Fuller test. If the p-value is greater than 0.05, then we fail to reject the null hypnothesis:\n",
    "\n",
    "\n",
    "\\begin{split}\n",
    "H_0 & : \\phi = 1 \\text{ (Differencing needed)}\\\\\n",
    "H_1 & : \\phi \\neq 1 \\text{ (Differencing not needed)}\n",
    "\\end{split}\n"
   ]
  },
  {
   "cell_type": "code",
   "execution_count": 15,
   "metadata": {},
   "outputs": [
    {
     "name": "stderr",
     "output_type": "stream",
     "text": [
      "Registered S3 method overwritten by 'xts':\n",
      "  method     from\n",
      "  as.zoo.xts zoo \n",
      "Registered S3 method overwritten by 'quantmod':\n",
      "  method            from\n",
      "  as.zoo.data.frame zoo \n"
     ]
    },
    {
     "data": {
      "text/plain": [
       "\n",
       "\tAugmented Dickey-Fuller Test\n",
       "\n",
       "data:  z\n",
       "Dickey-Fuller = -1.4037, Lag order = 5, p-value = 0.8261\n",
       "alternative hypothesis: stationary\n"
      ]
     },
     "metadata": {},
     "output_type": "display_data"
    }
   ],
   "source": [
    "library(tseries)\n",
    "\n",
    "#Augmented Dickey-Fuller test\n",
    "adf.test(z)"
   ]
  },
  {
   "cell_type": "markdown",
   "metadata": {},
   "source": [
    "The test shows that the p-value of $H_0$ is $0.8261>0.05$. It suggests that we fail to reject $H_0$ at $5\\%$ significance level. Therefore, we conclude that unit root exists in the series. Lets take a look at the plot, SACF and SPACF of the differenced log series:"
   ]
  },
  {
   "cell_type": "code",
   "execution_count": 16,
   "metadata": {},
   "outputs": [
    {
     "data": {
      "image/png": "[encoded data removed]",
      "text/plain": [
       "plot without title"
      ]
     },
     "metadata": {},
     "output_type": "display_data"
    },
    {
     "data": {
      "image/png": "[encoded data removed]",
      "text/plain": [
       "Plot with title \"SPACF of Differenced log series\""
      ]
     },
     "metadata": {},
     "output_type": "display_data"
    }
   ],
   "source": [
    "#differencing of the data\n",
    "z2 <- diff(z)\n",
    "\n",
    "plot(z2, type = 'o', ylab = 'Differenced Log series')\n",
    "ma50 <- filter(z,sides=2,rep(1,50)/50)\n",
    "lines(ma50, col = 'red')\n",
    "par(mfrow = c(1,2))\n",
    "acf(z2, main = 'SACF of Differenced log series'); pacf(z2, main = 'SPACF of Differenced log series')"
   ]
  },
  {
   "cell_type": "code",
   "execution_count": 17,
   "metadata": {
    "scrolled": true
   },
   "outputs": [
    {
     "name": "stderr",
     "output_type": "stream",
     "text": [
      "Warning message in adf.test(z2):\n",
      "\"p-value smaller than printed p-value\""
     ]
    },
    {
     "data": {
      "text/plain": [
       "\n",
       "\tAugmented Dickey-Fuller Test\n",
       "\n",
       "data:  z2\n",
       "Dickey-Fuller = -8.5305, Lag order = 5, p-value = 0.01\n",
       "alternative hypothesis: stationary\n"
      ]
     },
     "metadata": {},
     "output_type": "display_data"
    }
   ],
   "source": [
    "adf.test(z2)"
   ]
  },
  {
   "cell_type": "markdown",
   "metadata": {},
   "source": [
    "This time it shows that no more differencing is needed. "
   ]
  },
  {
   "cell_type": "markdown",
   "metadata": {},
   "source": [
    "# Model fitting"
   ]
  },
  {
   "cell_type": "markdown",
   "metadata": {},
   "source": [
    "We can see that both the ACF and PACF does not cut off. This suggests we should fit a ARMA model, and with the exiting root, we should fit a ARIMA model with differencing order 1.\n",
    "\n",
    "To determine the order of p and q, we will use the EACF table."
   ]
  },
  {
   "cell_type": "code",
   "execution_count": 18,
   "metadata": {
    "scrolled": false
   },
   "outputs": [
    {
     "name": "stdout",
     "output_type": "stream",
     "text": [
      "AR/MA\n",
      "  0 1 2 3 4 5 6 7 8 9 10 11 12 13\n",
      "0 x o x o o x x o o x x  o  o  o \n",
      "1 x x x o o o x o o o o  o  x  o \n",
      "2 x x x x o o o o o o o  o  o  o \n",
      "3 x o o x o o o o o o o  o  o  o \n",
      "4 x o x x o o o o o o o  o  o  o \n",
      "5 x o o x o o o o o o o  o  o  o \n",
      "6 x x o x o o o o o o o  o  o  o \n",
      "7 x x o o o x o o o o o  o  o  o \n"
     ]
    }
   ],
   "source": [
    "# eacf is not defined and the following code is programmed by K.S. Chan, Department of Statistics and Actuarial Science, University of Iowa.\n",
    "eacf <-\n",
    "  function (z,ar.max=7,ma.max=13) \n",
    "  {   \n",
    "    lag1<-function(z,lag=1){c(rep(NA,lag),z[1:(length(z)-lag)])}\n",
    "    reupm<-function(m1,nrow,ncol){\n",
    "      k<-ncol-1\n",
    "      m2<-NULL\n",
    "      for (i in 1:k){\n",
    "        i1<-i+1\n",
    "        work<-lag1(m1[,i])\n",
    "        work[1]<--1\n",
    "        temp<-m1[,i1]-work*m1[i1,i1]/m1[i,i]\n",
    "        temp[i1]<-0\n",
    "        m2<-cbind(m2,temp)\n",
    "      }\n",
    "      m2}\n",
    "    ceascf<-function(m,cov1,nar,ncol,count,ncov,z,zm){\n",
    "      result<-0*seq(1,nar+1)\n",
    "      result[1]<-cov1[ncov+count]\n",
    "      for (i in 1:nar) {\n",
    "        temp<-cbind(z[-(1:i)],zm[-(1:i),1:i])%*%c(1,-m[1:i,i])\n",
    "        result[i+1]<-acf(temp,plot=FALSE,lag.max=count,drop.lag.0=FALSE)$acf[count+1]\n",
    "      }\n",
    "      result\n",
    "    }\n",
    "      \n",
    "    ar.max<-ar.max+1\n",
    "    ma.max<-ma.max+1\n",
    "    nar<-ar.max-1\n",
    "    nma<-ma.max\n",
    "    ncov<-nar+nma+2\n",
    "    nrow<-nar+nma+1\n",
    "    ncol<-nrow-1\n",
    "    z<-z-mean(z)\n",
    "    zm<-NULL\n",
    "    for(i in 1:nar) zm<-cbind(zm,lag1(z,lag=i))\n",
    "    cov1<-acf(z,lag.max=ncov,plot=FALSE,drop.lag.0=FALSE)$acf\n",
    "    cov1<-c(rev(cov1[-1]),cov1)\n",
    "    ncov<-ncov+1\n",
    "    m1<-matrix(0,ncol=ncol,nrow=nrow)\n",
    "    for(i in 1:ncol) m1[1:i,i]<-\n",
    "      ar.ols(z,order.max=i,aic=FALSE,demean=FALSE,intercept=FALSE)$ar\n",
    "    eacfm<-NULL\n",
    "    for (i in 1:nma) {\n",
    "      m2<-reupm(m1=m1,nrow=nrow,ncol=ncol)\n",
    "      ncol<-ncol-1\n",
    "      eacfm<-cbind(eacfm, ceascf(m2,cov1,nar,ncol,i,ncov,z,zm))\n",
    "      m1<-m2}\n",
    "    work<-1:(nar+1)\n",
    "    work<-length(z)-work+1\n",
    "    symbol<-NULL\n",
    "    for ( i in 1:nma) {\n",
    "      work<-work-1\n",
    "      symbol<-cbind(symbol,ifelse(abs(eacfm[,i])>2/work^.5, 'x','o'))}\n",
    "    rownames(symbol)<-0:(ar.max-1)\n",
    "    colnames(symbol)<-0:(ma.max-1)\n",
    "    cat('AR/MA\\n')\n",
    "    print(symbol,quote=FALSE)\n",
    "    invisible(list(eacf=eacfm,ar.max=ar.max,ma.ma=ma.max,symbol=symbol))\n",
    "  }\n",
    "eacf(z2)"
   ]
  },
  {
   "cell_type": "markdown",
   "metadata": {},
   "source": [
    "The EACF plot suggests a ARIMA(1,1,3) model might be the best for our data. To make sure we have the best model, we will also fit a ARIMA(0,1,3) and ARIMA(2,1,4) model and determine the best one with the AIC."
   ]
  },
  {
   "cell_type": "code",
   "execution_count": 19,
   "metadata": {
    "scrolled": false
   },
   "outputs": [
    {
     "data": {
      "text/plain": [
       "\n",
       "Call:\n",
       "arima(x = z, order = c(1, 1, 3), include.mean = FALSE, method = \"ML\")\n",
       "\n",
       "Coefficients:\n",
       "          ar1      ma1      ma2     ma3\n",
       "      -0.3457  -0.6832  -0.2592  0.3102\n",
       "s.e.   0.2532   0.2453   0.2441  0.0818\n",
       "\n",
       "sigma^2 estimated as 0.03078:  log likelihood = 68.08,  aic = -126.16"
      ]
     },
     "metadata": {},
     "output_type": "display_data"
    },
    {
     "data": {
      "text/plain": [
       "\n",
       "Call:\n",
       "arima(x = z, order = c(0, 1, 3), include.mean = FALSE, method = \"ML\")\n",
       "\n",
       "Coefficients:\n",
       "          ma1     ma2     ma3\n",
       "      -1.0174  0.0958  0.2137\n",
       "s.e.   0.0702  0.1074  0.0755\n",
       "\n",
       "sigma^2 estimated as 0.03099:  log likelihood = 67.32,  aic = -126.64"
      ]
     },
     "metadata": {},
     "output_type": "display_data"
    },
    {
     "data": {
      "text/plain": [
       "\n",
       "Call:\n",
       "arima(x = z, order = c(2, 1, 4), include.mean = FALSE, method = \"ML\")\n",
       "\n",
       "Coefficients:\n",
       "          ar1      ar2     ma1      ma2      ma3     ma4\n",
       "      -1.5368  -0.8457  0.5395  -0.6135  -0.4533  0.4236\n",
       "s.e.   0.0451   0.0463  0.0780   0.0720   0.0707  0.0730\n",
       "\n",
       "sigma^2 estimated as 0.02899:  log likelihood = 72,  aic = -130.01"
      ]
     },
     "metadata": {},
     "output_type": "display_data"
    }
   ],
   "source": [
    "#fitting a ARIMA(1,1,3) model to the data\n",
    "fit113 <- arima(z, order=c(1,1,3), include.mean = FALSE, method = 'ML')\n",
    "\n",
    "#fitting a ARIMA(0,1,3) model to the data\n",
    "fit013 <- arima(z, order=c(0,1,3), include.mean = FALSE, method = 'ML')\n",
    "\n",
    "#fitting a ARIMA(2,1,4) model to the data\n",
    "fit214 <- arima(z, order=c(2,1,4), include.mean = FALSE, method = 'ML')\n",
    "\n",
    "fit113\n",
    "fit013\n",
    "fit214"
   ]
  },
  {
   "cell_type": "markdown",
   "metadata": {},
   "source": [
    "The AIC actually suggests the ARIMA(2,1,4) model works best with the data. Hence, I will pick it as my model."
   ]
  },
  {
   "cell_type": "code",
   "execution_count": 20,
   "metadata": {
    "scrolled": false
   },
   "outputs": [
    {
     "data": {
      "image/png": "[encoded data removed]",
      "text/plain": [
       "Plot with title \"p values for Ljung-Box statistic\""
      ]
     },
     "metadata": {},
     "output_type": "display_data"
    }
   ],
   "source": [
    "options(repr.plot.width=8, repr.plot.height=8)\n",
    "\n",
    "#3 diagnostic plots of the model\n",
    "tsdiag(fit214,golf.lag=25)"
   ]
  },
  {
   "cell_type": "markdown",
   "metadata": {},
   "source": [
    "In the first plot, it shows that the standardized error is quite random. However, there are a few points which has a variance of -4. Therefore, I won't be too sure about a constant variance. \n",
    "\n",
    "In the second plot (SACF of residuals), it shows that 2 points (lag 15 and 17) are out of or close to the blue dashed line. Therefore, by the criteria, we may not reject iid noise hypothesis.\n",
    "\n",
    "In the third plot, without bringing out the statistic, we can clearly see that the p-value for the Lyung-Box statistic at each lag is way bigger than 0.05. Therefore, at $5\\%$ significiant level, we fail to reject the null hypothesis\n",
    "\n",
    "\\begin{equation}\n",
    "H_0:\\rho_1 = \\rho_2 = \\dots = \\rho_{10} = 0\n",
    "\\end{equation}\n",
    "\n",
    "and it suggests that there is no correlation at lag $1,2, \\dots, 10$, and the residuals are iid white noise. This fitted model is actually quite good for the data. The model we fitted is as follows:\n",
    "\n",
    "\\begin{split}\n",
    "y_t &\\sim \\text{ARIMA}(2,1,4) \\\\\n",
    "\\bigtriangledown y_t & = -1.54 y_{t-1} -0.85 y_{t-2} + W_t +0.54 W_{t-1} -0.61 W_{t-2} - 0.45 W_{t-3} + 0.42 W_{t-4} \\\\\n",
    "y_t - y_{t-1} & = -1.54 y_{t-1} -0.85 y_{t-2} + W_t +0.54 W_{t-1} -0.61 W_{t-2} - 0.45 W_{t-3} + 0.42 W_{t-4} \\\\\n",
    "y_t & = -0.54 y_{t-1} -0.85 y_{t-2} + W_t +0.54 W_{t-1} -0.61 W_{t-2} - 0.45 W_{t-3} + 0.42 W_{t-4} \\\\\n",
    "\\end{split}\n",
    "\n",
    "where $W_t \\sim \\text{WN}(0,0.03)$ and $y_t$ is the lag 12 differenced series of the original logged data. "
   ]
  },
  {
   "cell_type": "markdown",
   "metadata": {},
   "source": [
    "# Forecast "
   ]
  },
  {
   "cell_type": "markdown",
   "metadata": {},
   "source": [
    "Next, we wish to make predictions on data, and the results are as follows:"
   ]
  },
  {
   "cell_type": "code",
   "execution_count": 21,
   "metadata": {
    "scrolled": true
   },
   "outputs": [],
   "source": [
    "#forecasts of the next 12 differenced data\n",
    "forecast <-predict(fit214,12)\n",
    "\n",
    "#upper and lower bound of the 12 differenced data\n",
    "u <- forecast$pred+1.96*forecast$se\n",
    "l <- forecast$pred-1.96*forecast$se"
   ]
  },
  {
   "cell_type": "code",
   "execution_count": 22,
   "metadata": {},
   "outputs": [],
   "source": [
    "# predicted values\n",
    "forecast_values <- forecast$pred\n",
    "# combine predicted values with the differenced series\n",
    "whole_series <- c(z, forecast_values)\n",
    "# reverse differenced series to log series from 13\n",
    "log_series <- whole_series + y[1:227]\n",
    "# completed series\n",
    "log_series <- c(y[1:12], log_series)"
   ]
  },
  {
   "cell_type": "code",
   "execution_count": 23,
   "metadata": {},
   "outputs": [],
   "source": [
    "# upper interval\n",
    "upper <- u + y[216:227]\n",
    "\n",
    "# lower interval\n",
    "lower <- l + y[216:227]"
   ]
  },
  {
   "cell_type": "code",
   "execution_count": 24,
   "metadata": {
    "scrolled": false
   },
   "outputs": [
    {
     "data": {
      "image/png": "[encoded data removed]",
      "text/plain": [
       "plot without title"
      ]
     },
     "metadata": {},
     "output_type": "display_data"
    }
   ],
   "source": [
    "#plot of the monlthy subscription from month 200 to 227 and the forecasts of the next year\n",
    "month <- seq(170,227)\n",
    "monthforecast <- seq(228,239)\n",
    "plot(month, exp(log_series[month]),type='o', xlim = c(170, 239), ylim = c(0,110000), ylab='student')\n",
    "lines(monthforecast, exp(log_series[228:239]), col = 'red', type = 'o')\n",
    "lines(monthforecast, exp(upper), col = 'blue', lty = 'dashed')\n",
    "lines(monthforecast, exp(lower), col = 'blue', lty = 'dashed')\n",
    "abline(v = 227+0.5, lty = 'dotted')"
   ]
  },
  {
   "cell_type": "markdown",
   "metadata": {},
   "source": [
    "Visually, we can definitly see a drop across all months in 2021. This is as expected as a travel restriction is enhanced during the panderic. \n",
    "\n",
    "I will have a comparision with 2020 numerically to see a more accuratenumber."
   ]
  },
  {
   "cell_type": "code",
   "execution_count": 42,
   "metadata": {},
   "outputs": [
    {
     "data": {
      "image/png": "[encoded data removed]",
      "text/plain": [
       "plot without title"
      ]
     },
     "metadata": {},
     "output_type": "display_data"
    }
   ],
   "source": [
    "# 2021 forecast\n",
    "data2021 <- exp(log_series)[229:239]\n",
    "\n",
    "# 2020 data\n",
    "data2020 <- exp(log_series)[217:227]\n",
    "\n",
    "# 2019 data\n",
    "data2019 <- exp(log_series)[205:215]\n",
    "\n",
    "# plot the data\n",
    "plot(data2021, type = \"o\", ylim = c(10000, 100000), xlab = \"Month\", ylab = \"Students\")\n",
    "lines(data2020, type = \"o\", col = \"blue\")\n",
    "lines(data2019, type = \"o\", col = \"Green\")\n",
    "\n",
    "abline(v = 2, lty = 'dotted', col = \"red\")\n",
    "abline(v = 7, lty = 'dotted', col = \"red\")"
   ]
  },
  {
   "cell_type": "code",
   "execution_count": 43,
   "metadata": {
    "scrolled": true
   },
   "outputs": [
    {
     "data": {
      "text/html": [
       "<table>\n",
       "<thead><tr><th></th><th scope=col>January</th><th scope=col>February</th><th scope=col>March</th><th scope=col>April</th><th scope=col>May</th><th scope=col>June</th><th scope=col>July</th><th scope=col>August</th><th scope=col>September</th><th scope=col>October</th><th scope=col>November</th></tr></thead>\n",
       "<tbody>\n",
       "\t<tr><th scope=row>Year 2019</th><td>44143.00</td><td>92867.00</td><td>57691.00</td><td>34618.00</td><td>19987.00</td><td>17571.00</td><td>96809.00</td><td>35529.00</td><td>34125.00</td><td>37535.00</td><td>30882.00</td></tr>\n",
       "\t<tr><th scope=row>Year 2020</th><td>45621.00</td><td>81424.00</td><td>52996.00</td><td>26325.00</td><td>17200.00</td><td>18230.00</td><td>50931.00</td><td>34637.00</td><td>20301.00</td><td>25905.00</td><td>21191.00</td></tr>\n",
       "\t<tr><th scope=row>Year 2021</th><td>28481.76</td><td>64394.85</td><td>31957.09</td><td>19716.93</td><td>11612.19</td><td>12018.27</td><td>38022.41</td><td>21794.38</td><td>14954.26</td><td>17307.81</td><td>14397.02</td></tr>\n",
       "\t<tr><th scope=row>percentage_difference_between_20_19</th><td>    0.03</td><td>   -0.12</td><td>   -0.08</td><td>   -0.24</td><td>   -0.14</td><td>    0.04</td><td>   -0.47</td><td>   -0.03</td><td>   -0.41</td><td>   -0.31</td><td>   -0.31</td></tr>\n",
       "\t<tr><th scope=row>percentage_difference_between_21_20</th><td>   -0.38</td><td>   -0.21</td><td>   -0.40</td><td>   -0.25</td><td>   -0.32</td><td>   -0.34</td><td>   -0.25</td><td>   -0.37</td><td>   -0.26</td><td>   -0.33</td><td>   -0.32</td></tr>\n",
       "</tbody>\n",
       "</table>\n"
      ],
      "text/latex": [
       "\\begin{tabular}{r|lllllllllll}\n",
       "  & January & February & March & April & May & June & July & August & September & October & November\\\\\n",
       "\\hline\n",
       "\tYear 2019 & 44143.00 & 92867.00 & 57691.00 & 34618.00 & 19987.00 & 17571.00 & 96809.00 & 35529.00 & 34125.00 & 37535.00 & 30882.00\\\\\n",
       "\tYear 2020 & 45621.00 & 81424.00 & 52996.00 & 26325.00 & 17200.00 & 18230.00 & 50931.00 & 34637.00 & 20301.00 & 25905.00 & 21191.00\\\\\n",
       "\tYear 2021 & 28481.76 & 64394.85 & 31957.09 & 19716.93 & 11612.19 & 12018.27 & 38022.41 & 21794.38 & 14954.26 & 17307.81 & 14397.02\\\\\n",
       "\tpercentage\\_difference\\_between\\_20\\_19 &     0.03 &    -0.12 &    -0.08 &    -0.24 &    -0.14 &     0.04 &    -0.47 &    -0.03 &    -0.41 &    -0.31 &    -0.31\\\\\n",
       "\tpercentage\\_difference\\_between\\_21\\_20 &    -0.38 &    -0.21 &    -0.40 &    -0.25 &    -0.32 &    -0.34 &    -0.25 &    -0.37 &    -0.26 &    -0.33 &    -0.32\\\\\n",
       "\\end{tabular}\n"
      ],
      "text/markdown": [
       "\n",
       "| <!--/--> | January | February | March | April | May | June | July | August | September | October | November |\n",
       "|---|---|---|---|---|---|---|---|---|---|---|---|\n",
       "| Year 2019 | 44143.00 | 92867.00 | 57691.00 | 34618.00 | 19987.00 | 17571.00 | 96809.00 | 35529.00 | 34125.00 | 37535.00 | 30882.00 |\n",
       "| Year 2020 | 45621.00 | 81424.00 | 52996.00 | 26325.00 | 17200.00 | 18230.00 | 50931.00 | 34637.00 | 20301.00 | 25905.00 | 21191.00 |\n",
       "| Year 2021 | 28481.76 | 64394.85 | 31957.09 | 19716.93 | 11612.19 | 12018.27 | 38022.41 | 21794.38 | 14954.26 | 17307.81 | 14397.02 |\n",
       "| percentage_difference_between_20_19 |     0.03 |    -0.12 |    -0.08 |    -0.24 |    -0.14 |     0.04 |    -0.47 |    -0.03 |    -0.41 |    -0.31 |    -0.31 |\n",
       "| percentage_difference_between_21_20 |    -0.38 |    -0.21 |    -0.40 |    -0.25 |    -0.32 |    -0.34 |    -0.25 |    -0.37 |    -0.26 |    -0.33 |    -0.32 |\n",
       "\n"
      ],
      "text/plain": [
       "                                    January  February March    April   \n",
       "Year 2019                           44143.00 92867.00 57691.00 34618.00\n",
       "Year 2020                           45621.00 81424.00 52996.00 26325.00\n",
       "Year 2021                           28481.76 64394.85 31957.09 19716.93\n",
       "percentage_difference_between_20_19     0.03    -0.12    -0.08    -0.24\n",
       "percentage_difference_between_21_20    -0.38    -0.21    -0.40    -0.25\n",
       "                                    May      June     July     August  \n",
       "Year 2019                           19987.00 17571.00 96809.00 35529.00\n",
       "Year 2020                           17200.00 18230.00 50931.00 34637.00\n",
       "Year 2021                           11612.19 12018.27 38022.41 21794.38\n",
       "percentage_difference_between_20_19    -0.14     0.04    -0.47    -0.03\n",
       "percentage_difference_between_21_20    -0.32    -0.34    -0.25    -0.37\n",
       "                                    September October  November\n",
       "Year 2019                           34125.00  37535.00 30882.00\n",
       "Year 2020                           20301.00  25905.00 21191.00\n",
       "Year 2021                           14954.26  17307.81 14397.02\n",
       "percentage_difference_between_20_19    -0.41     -0.31    -0.31\n",
       "percentage_difference_between_21_20    -0.26     -0.33    -0.32"
      ]
     },
     "metadata": {},
     "output_type": "display_data"
    },
    {
     "data": {
      "text/html": [
       "-0.19"
      ],
      "text/latex": [
       "-0.19"
      ],
      "text/markdown": [
       "-0.19"
      ],
      "text/plain": [
       "[1] -0.19"
      ]
     },
     "metadata": {},
     "output_type": "display_data"
    },
    {
     "data": {
      "text/html": [
       "-0.31"
      ],
      "text/latex": [
       "-0.31"
      ],
      "text/markdown": [
       "-0.31"
      ],
      "text/plain": [
       "[1] -0.31"
      ]
     },
     "metadata": {},
     "output_type": "display_data"
    }
   ],
   "source": [
    "# table for percentage difference\n",
    "difference_percent_2019 <- round((data2020 - data2019)/data2019,2)\n",
    "difference_percent_2120 <- round((data2021 - data2020)/data2020,2)\n",
    "compare_table <- as.data.frame(rbind(data2019, data2020, data2021, difference_percent_2019, difference_percent_2120))\n",
    "colnames(compare_table) <- month.name[1:11]\n",
    "rownames(compare_table) <- c(\"Year 2019\", \"Year 2020\", \"Year 2021\", \"percentage_difference_between_20_19\", \"percentage_difference_between_21_20\")\n",
    "\n",
    "compare_table\n",
    "\n",
    "# average difference between 2019 and 2020\n",
    "round(sum(compare_table[4,])/11, 2)\n",
    "\n",
    "# average difference between 2020 and 2021\n",
    "round(sum(compare_table[5,])/11, 2)"
   ]
  },
  {
   "cell_type": "markdown",
   "metadata": {},
   "source": [
    "From the above table, we can see the amount of international students have dropped by $19 \\%$ on average due to the pandemric.\n",
    "\n",
    "With our model, we can foresee the number of international students dropping by a huge $30 \\%$ on average from 2020 to 2021. \n",
    "\n",
    "This is as expected since the outbreak and travel ban happaned closer to the second half of year 2020, The data actually reflects that, as we see the percentage being close to 0 in January, February and March 2020, and we starts to see some significant changes starting from April 2020."
   ]
  },
  {
   "cell_type": "markdown",
   "metadata": {},
   "source": [
    "# Conclusion"
   ]
  },
  {
   "cell_type": "markdown",
   "metadata": {},
   "source": [
    "From the forecasting results, we can see a significant drop in ininternational students for each month. \n",
    "\n",
    "To conclude, we can expect the amount of international students to stay dropping until the travel ban is getting lifted."
   ]
  }
 ],
 "metadata": {
  "kernelspec": {
   "display_name": "R",
   "language": "R",
   "name": "ir"
  },
  "language_info": {
   "codemirror_mode": "r",
   "file_extension": ".r",
   "mimetype": "text/x-r-source",
   "name": "R",
   "pygments_lexer": "r",
   "version": "3.6.1"
  }
 },
 "nbformat": 4,
 "nbformat_minor": 4
}
